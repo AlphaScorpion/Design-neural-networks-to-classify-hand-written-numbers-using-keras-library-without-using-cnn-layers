{
  "cells": [
    {
      "cell_type": "markdown",
      "metadata": {
        "id": "hqyU22z5dbw-"
      },
      "source": [
        "<b>Name: Aishwarya Bhavsar<b><br>\n",
        "<b>CSULB ID: 029371509<b><br>\n",
        "<b>CECS 551 - Assignment 5<b><br>\n",
        "\n",
        "<b>Design neural networks to classify hand written numbers using keras library, however,do not include convolutional layers.<b>\n",
        "\n"
      ]
    },
    {
      "cell_type": "markdown",
      "metadata": {
        "id": "6zDcLKCIeKR3"
      },
      "source": [
        "<font color='red'><b>(a) Design neural networks and implement them.<b></font> <br>\n",
        "\n",
        "• Find Assignment 5 mnist.ipynb and mnist.zip.<br>\n",
        "• train X and test X are list of intensities in 8-bit gray scale of 28 × 28 images.<br>\n",
        "• train y and test y are list of integers which are the classes of the correspond\u0002ing images.<br>\n",
        "• The objective of the networks is classifying images into 0 to 9"
      ]
    },
    {
      "cell_type": "markdown",
      "metadata": {
        "id": "Q7Lu8JBIebOF"
      },
      "source": [
        "**Import Libraries**"
      ]
    },
    {
      "cell_type": "code",
      "execution_count": 1,
      "metadata": {
        "id": "9xhT2aVqjORK"
      },
      "outputs": [],
      "source": [
        "import numpy as np # linear algebra\n",
        "import pandas as pd # data processing, CSV file I/O (e.g. pd.read_csv)\n",
        "import matplotlib.pyplot as plt # plotting library\n",
        "from keras.models import Sequential\n",
        "from keras.layers import Dense , Activation, Dropout\n",
        "from tensorflow.keras.optimizers import Adam\n",
        "from keras import  backend as K\n"
      ]
    },
    {
      "cell_type": "markdown",
      "metadata": {
        "id": "U4egdUGUem7h"
      },
      "source": [
        "**Import & Load Dataset**<br>\n",
        "<b>Count the number of Unique train & test labels.<b>"
      ]
    },
    {
      "cell_type": "code",
      "execution_count": 2,
      "metadata": {
        "colab": {
          "base_uri": "https://localhost:8080/"
        },
        "id": "v8eCnezAj5Ej",
        "outputId": "084b3cdc-0d64-4aeb-8085-3fcb51178801"
      },
      "outputs": [
        {
          "output_type": "stream",
          "name": "stdout",
          "text": [
            "Downloading data from https://storage.googleapis.com/tensorflow/tf-keras-datasets/mnist.npz\n",
            "11493376/11490434 [==============================] - 0s 0us/step\n",
            "11501568/11490434 [==============================] - 0s 0us/step\n",
            "Train labels:  {0: 5923, 1: 6742, 2: 5958, 3: 6131, 4: 5842, 5: 5421, 6: 5918, 7: 6265, 8: 5851, 9: 5949}\n",
            "\n",
            "Test labels:  {0: 980, 1: 1135, 2: 1032, 3: 1010, 4: 982, 5: 892, 6: 958, 7: 1028, 8: 974, 9: 1009}\n"
          ]
        }
      ],
      "source": [
        "# import dataset\n",
        "from keras.datasets import mnist\n",
        "\n",
        "\n",
        "# load dataset\n",
        "(x_train, y_train),(x_test, y_test) = mnist.load_data()\n",
        "\n",
        "\n",
        "\n",
        "# count the number of unique train labels\n",
        "unique, counts = np.unique(y_train, return_counts=True)\n",
        "print(\"Train labels: \", dict(zip(unique, counts)))\n",
        "\n",
        "\n",
        "\n",
        "# count the number of unique test labels\n",
        "unique, counts = np.unique(y_test, return_counts=True)\n",
        "print(\"\\nTest labels: \", dict(zip(unique, counts)))\n"
      ]
    },
    {
      "cell_type": "code",
      "source": [
        "import matplotlib.pyplot as plt\n",
        "import numpy as np\n",
        "\n",
        "id = 7\n",
        "\n",
        "image = np.array(x_train[id], dtype='float')\n",
        "pixels = image.reshape((28, 28))\n",
        "plt.imshow(pixels, cmap='gray')\n",
        "plt.show()\n",
        "\n",
        "# print(X_train[id])\n",
        "print(y_train[id])"
      ],
      "metadata": {
        "colab": {
          "base_uri": "https://localhost:8080/",
          "height": 282
        },
        "id": "Tk-x5KZpYIE_",
        "outputId": "0f2c1dee-16c3-40e0-e500-e25a84efc04a"
      },
      "execution_count": 3,
      "outputs": [
        {
          "output_type": "display_data",
          "data": {
            "text/plain": [
              "<Figure size 432x288 with 1 Axes>"
            ],
            "image/png": "[encoded data removed]"
          },
          "metadata": {
            "needs_background": "light"
          }
        },
        {
          "output_type": "stream",
          "name": "stdout",
          "text": [
            "3\n"
          ]
        }
      ]
    },
    {
      "cell_type": "markdown",
      "metadata": {
        "id": "CHfkmQ2jfB3b"
      },
      "source": [
        "**Import keras libraries and packages**"
      ]
    },
    {
      "cell_type": "code",
      "execution_count": null,
      "metadata": {
        "id": "-z7yNzFsj5Hg"
      },
      "outputs": [],
      "source": [
        "from keras.models import Sequential\n",
        "from keras.layers import Dense, Activation, Dropout\n",
        "from tensorflow.keras.utils import to_categorical, plot_model"
      ]
    },
    {
      "cell_type": "markdown",
      "metadata": {
        "id": "Z8AsGJ12fWPQ"
      },
      "source": [
        "**Compute the number of labels**"
      ]
    },
    {
      "cell_type": "code",
      "execution_count": null,
      "metadata": {
        "id": "_vKIbdL5j5K5"
      },
      "outputs": [],
      "source": [
        "# compute the number of labels\n",
        "num_labels = len(np.unique(y_train))"
      ]
    },
    {
      "cell_type": "markdown",
      "metadata": {
        "id": "dsSz_fcUfcxI"
      },
      "source": [
        "<b>One Hot Encoding <br> <br>One Hot Encoding is a common way of preprocessing categorical features for machine learning models.<br> This type of encoding creates a new binary feature for each possible category and assigns a value of 1 to the feature of each sample that corresponds to its original category. <b>"
      ]
    },
    {
      "cell_type": "code",
      "execution_count": null,
      "metadata": {
        "id": "E4l1A5Ugj5QS"
      },
      "outputs": [],
      "source": [
        "# convert to one-hot vector\n",
        "y_train = to_categorical(y_train)\n",
        "y_test = to_categorical(y_test)"
      ]
    },
    {
      "cell_type": "code",
      "execution_count": null,
      "metadata": {
        "colab": {
          "base_uri": "https://localhost:8080/"
        },
        "id": "_ebKf39xkd6z",
        "outputId": "6356242a-0086-4ad8-fee9-f506f69ee440"
      },
      "outputs": [
        {
          "data": {
            "text/plain": [
              "784"
            ]
          },
          "execution_count": 6,
          "metadata": {},
          "output_type": "execute_result"
        }
      ],
      "source": [
        "# image dimensions (assumed square)\n",
        "image_size = x_train.shape[1]\n",
        "input_size = image_size * image_size\n",
        "input_size"
      ]
    },
    {
      "cell_type": "markdown",
      "metadata": {
        "id": "lCqmUUImjHCs"
      },
      "source": [
        "<b>Resize & Normalize<b><br>\n",
        "We know that the pixel values for each image in the dataset are unsigned integers in the range between black and white, or 0 and 255.<br>\n",
        "\n",
        "We do not know the best way to scale the pixel values for modeling, but we know that some scaling will be required.<br>\n",
        "\n",
        "A good starting point is to normalize the pixel values of grayscale images, e.g. rescale them to the range [0,1]. This involves first converting the data type from unsigned integers to floats, then dividing the pixel values by the maximum value.\n",
        "\n"
      ]
    },
    {
      "cell_type": "code",
      "execution_count": null,
      "metadata": {
        "id": "y4eDZ0Pwkd9i"
      },
      "outputs": [],
      "source": [
        "# resize and normalize\n",
        "x_train = np.reshape(x_train, [-1, input_size])\n",
        "x_train = x_train.astype('float32') / 255\n",
        "x_test = np.reshape(x_test, [-1, input_size])\n",
        "x_test = x_test.astype('float32') / 255"
      ]
    },
    {
      "cell_type": "markdown",
      "metadata": {
        "id": "LNrdAdmymYyq"
      },
      "source": [
        "<font color='red'><b>(b) Split the training dataset into sub training and validation sets randomly.<b></font> <br><br> Use 1/6 of training dataset as validation set. Use the ‘accuracy’ as metric. Please repeat 10 times of random split for each hyper-parameters and architecture, and aggregate (average) the accuracy.<b>"
      ]
    },
    {
      "cell_type": "markdown",
      "metadata": {
        "id": "-Lu8QeaZkpSy"
      },
      "source": [
        "<b>Splitting of dataset : Validation set = 1/6th of training data<b>"
      ]
    },
    {
      "cell_type": "code",
      "execution_count": null,
      "metadata": {
        "id": "X-b_cQotv0sR"
      },
      "outputs": [],
      "source": [
        "from sklearn.model_selection import train_test_split\n",
        "x_subtrain, x_valid, y_subtrain, y_valid = train_test_split(x_train, y_train, test_size=0.16,random_state=42)"
      ]
    },
    {
      "cell_type": "markdown",
      "metadata": {
        "id": "fKnn1SyxmTak"
      },
      "source": [
        "\n",
        "<font color='red'><b>(c) Optimizer evaluation<b></font> <br><br>\n",
        "• Implement a neural network which has single hidden layer with 32 units. Us\u0002ing the network, find best hyper-parameters of the following optimizers; SGD,RMSprop, Adam, Adagrad.<br>\n",
        "• Train the network with the training dataset (not sub training) with the best\n",
        "hyper-parameters of each optimizer.<br>\n",
        "• For each optimizer, report test accuracy using the test dataset.<b>"
      ]
    },
    {
      "cell_type": "markdown",
      "metadata": {
        "id": "Sqx1ZRTwla8p"
      },
      "source": [
        "<b> 1. Train Model using <font color = 'blue'>ADAM optimiser.<b> "
      ]
    },
    {
      "cell_type": "code",
      "execution_count": null,
      "metadata": {
        "id": "wJL7mvxcbWnD"
      },
      "outputs": [],
      "source": [
        "from keras.layers import Dense\n",
        "from tensorflow.keras.optimizers import Adam\n",
        "import tensorflow as tf\n",
        "tf.keras.optimizers.Adam(learning_rate=0.01, beta_1=0.9, beta_2=0.999, epsilon=1e-07, amsgrad=False, name=\"Adam\")\n",
        "def create_model():\n",
        "  model = Sequential()\n",
        "  model.add(Dense(32, input_dim = num_pixels, activation = 'relu'))\n",
        "  model.compile(Adam(lr=0.01), loss='binary_crossentropy',metrics=['accuracy'])\n",
        "  return model"
      ]
    },
    {
      "cell_type": "code",
      "execution_count": null,
      "metadata": {
        "colab": {
          "base_uri": "https://localhost:8080/"
        },
        "id": "JwzkldHwkeDA",
        "outputId": "264b9bd6-cdcf-4d1a-c1f0-66ccd896edf3"
      },
      "outputs": [
        {
          "name": "stdout",
          "output_type": "stream",
          "text": [
            "Model: \"sequential\"\n",
            "_________________________________________________________________\n",
            " Layer (type)                Output Shape              Param #   \n",
            "=================================================================\n",
            " dense (Dense)               (None, 32)                25120     \n",
            "                                                                 \n",
            " activation (Activation)     (None, 32)                0         \n",
            "                                                                 \n",
            " dropout (Dropout)           (None, 32)                0         \n",
            "                                                                 \n",
            " dense_1 (Dense)             (None, 10)                330       \n",
            "                                                                 \n",
            " activation_1 (Activation)   (None, 10)                0         \n",
            "                                                                 \n",
            "=================================================================\n",
            "Total params: 25,450\n",
            "Trainable params: 25,450\n",
            "Non-trainable params: 0\n",
            "_________________________________________________________________\n"
          ]
        }
      ],
      "source": [
        "model.summary()"
      ]
    },
    {
      "cell_type": "code",
      "execution_count": null,
      "metadata": {
        "colab": {
          "base_uri": "https://localhost:8080/",
          "height": 644
        },
        "id": "8Ucq0hLtkeGm",
        "outputId": "084852b2-302a-48e2-b870-836aa80254bd"
      },
      "outputs": [
        {
          "data": {
            "image/png": "[encoded data removed]",
            "text/plain": [
              "<IPython.core.display.Image object>"
            ]
          },
          "execution_count": 14,
          "metadata": {},
          "output_type": "execute_result"
        }
      ],
      "source": [
        "plot_model(model, to_file='mlp-mnist.png', show_shapes=True)"
      ]
    },
    {
      "cell_type": "markdown",
      "metadata": {
        "id": "SimXRvH3ln1j"
      },
      "source": [
        "<b>Compile the model using ADAM Optimiser<b>"
      ]
    },
    {
      "cell_type": "code",
      "execution_count": null,
      "metadata": {
        "id": "uQb0cic3mC-B"
      },
      "outputs": [],
      "source": [
        "batch_size = 128\n",
        "hidden_units = 32\n",
        "dropout = 0.45\n",
        "# model is a 1-layer MLP with ReLU and dropout after each layer\n",
        "model = Sequential()\n",
        "model.add(Dense(hidden_units, input_dim=input_size))\n",
        "model.add(Activation('softmax'))\n",
        "model.add(Dropout(dropout))\n",
        "model.add(Dense(num_labels))\n",
        "model.add(Activation('softmax'))\n",
        "model.compile(optimizer='adam', loss='categorical_crossentropy', metrics=['accuracy'])\n"
      ]
    },
    {
      "cell_type": "code",
      "execution_count": null,
      "metadata": {
        "colab": {
          "base_uri": "https://localhost:8080/"
        },
        "id": "-UfVw-2VmDTk",
        "outputId": "d81d3fad-4f32-415e-9325-4a890a275034"
      },
      "outputs": [
        {
          "name": "stdout",
          "output_type": "stream",
          "text": [
            "Epoch 1/100\n",
            "469/469 [==============================] - 2s 4ms/step - loss: 1.0270 - accuracy: 0.6342\n",
            "Epoch 2/100\n",
            "469/469 [==============================] - 2s 4ms/step - loss: 1.0125 - accuracy: 0.6402\n",
            "Epoch 3/100\n",
            "469/469 [==============================] - 2s 4ms/step - loss: 0.9924 - accuracy: 0.6596\n",
            "Epoch 4/100\n",
            "469/469 [==============================] - 2s 4ms/step - loss: 0.9653 - accuracy: 0.6782\n",
            "Epoch 5/100\n",
            "469/469 [==============================] - 2s 4ms/step - loss: 0.9431 - accuracy: 0.6845\n",
            "Epoch 6/100\n",
            "469/469 [==============================] - 2s 3ms/step - loss: 0.9162 - accuracy: 0.6991\n",
            "Epoch 7/100\n",
            "469/469 [==============================] - 2s 3ms/step - loss: 0.8807 - accuracy: 0.7114\n",
            "Epoch 8/100\n",
            "469/469 [==============================] - 2s 4ms/step - loss: 0.8719 - accuracy: 0.7065\n",
            "Epoch 9/100\n",
            "469/469 [==============================] - 2s 4ms/step - loss: 0.8546 - accuracy: 0.7102\n",
            "Epoch 10/100\n",
            "469/469 [==============================] - 2s 4ms/step - loss: 0.8439 - accuracy: 0.7121\n",
            "Epoch 11/100\n",
            "469/469 [==============================] - 2s 3ms/step - loss: 0.8270 - accuracy: 0.7194\n",
            "Epoch 12/100\n",
            "469/469 [==============================] - 2s 3ms/step - loss: 0.8167 - accuracy: 0.7232\n",
            "Epoch 13/100\n",
            "469/469 [==============================] - 2s 3ms/step - loss: 0.8160 - accuracy: 0.7247\n",
            "Epoch 14/100\n",
            "469/469 [==============================] - 2s 3ms/step - loss: 0.7975 - accuracy: 0.7318\n",
            "Epoch 15/100\n",
            "469/469 [==============================] - 2s 4ms/step - loss: 0.7756 - accuracy: 0.7465\n",
            "Epoch 16/100\n",
            "469/469 [==============================] - 2s 4ms/step - loss: 0.7614 - accuracy: 0.7519\n",
            "Epoch 17/100\n",
            "469/469 [==============================] - 2s 4ms/step - loss: 0.7408 - accuracy: 0.7533\n",
            "Epoch 18/100\n",
            "469/469 [==============================] - 2s 3ms/step - loss: 0.7203 - accuracy: 0.7592\n",
            "Epoch 19/100\n",
            "469/469 [==============================] - 2s 4ms/step - loss: 0.7063 - accuracy: 0.7638\n",
            "Epoch 20/100\n",
            "469/469 [==============================] - 2s 4ms/step - loss: 0.6941 - accuracy: 0.7685\n",
            "Epoch 21/100\n",
            "469/469 [==============================] - 2s 4ms/step - loss: 0.6818 - accuracy: 0.7722\n",
            "Epoch 22/100\n",
            "469/469 [==============================] - 2s 4ms/step - loss: 0.6724 - accuracy: 0.7744\n",
            "Epoch 23/100\n",
            "469/469 [==============================] - 2s 4ms/step - loss: 0.6660 - accuracy: 0.7757\n",
            "Epoch 24/100\n",
            "469/469 [==============================] - 2s 3ms/step - loss: 0.6471 - accuracy: 0.7869\n",
            "Epoch 25/100\n",
            "469/469 [==============================] - 2s 3ms/step - loss: 0.6435 - accuracy: 0.7865\n",
            "Epoch 26/100\n",
            "469/469 [==============================] - 2s 4ms/step - loss: 0.6419 - accuracy: 0.7885\n",
            "Epoch 27/100\n",
            "469/469 [==============================] - 2s 4ms/step - loss: 0.6337 - accuracy: 0.7909\n",
            "Epoch 28/100\n",
            "469/469 [==============================] - 2s 4ms/step - loss: 0.6157 - accuracy: 0.7966\n",
            "Epoch 29/100\n",
            "469/469 [==============================] - 2s 3ms/step - loss: 0.6076 - accuracy: 0.8003\n",
            "Epoch 30/100\n",
            "469/469 [==============================] - 2s 3ms/step - loss: 0.6094 - accuracy: 0.7975\n",
            "Epoch 31/100\n",
            "469/469 [==============================] - 2s 3ms/step - loss: 0.6041 - accuracy: 0.7980\n",
            "Epoch 32/100\n",
            "469/469 [==============================] - 2s 3ms/step - loss: 0.5946 - accuracy: 0.8048\n",
            "Epoch 33/100\n",
            "469/469 [==============================] - 2s 3ms/step - loss: 0.5922 - accuracy: 0.8051\n",
            "Epoch 34/100\n",
            "469/469 [==============================] - 2s 4ms/step - loss: 0.5839 - accuracy: 0.8087\n",
            "Epoch 35/100\n",
            "469/469 [==============================] - 2s 3ms/step - loss: 0.5878 - accuracy: 0.8099\n",
            "Epoch 36/100\n",
            "469/469 [==============================] - 2s 4ms/step - loss: 0.5784 - accuracy: 0.8112\n",
            "Epoch 37/100\n",
            "469/469 [==============================] - 2s 3ms/step - loss: 0.5689 - accuracy: 0.8129\n",
            "Epoch 38/100\n",
            "469/469 [==============================] - 2s 3ms/step - loss: 0.5624 - accuracy: 0.8168\n",
            "Epoch 39/100\n",
            "469/469 [==============================] - 2s 3ms/step - loss: 0.5606 - accuracy: 0.8172\n",
            "Epoch 40/100\n",
            "469/469 [==============================] - 2s 3ms/step - loss: 0.5555 - accuracy: 0.8182\n",
            "Epoch 41/100\n",
            "469/469 [==============================] - 2s 4ms/step - loss: 0.5550 - accuracy: 0.8179\n",
            "Epoch 42/100\n",
            "469/469 [==============================] - 2s 4ms/step - loss: 0.5534 - accuracy: 0.8184\n",
            "Epoch 43/100\n",
            "469/469 [==============================] - 2s 4ms/step - loss: 0.5481 - accuracy: 0.8194\n",
            "Epoch 44/100\n",
            "469/469 [==============================] - 2s 3ms/step - loss: 0.5459 - accuracy: 0.8228\n",
            "Epoch 45/100\n",
            "469/469 [==============================] - 2s 3ms/step - loss: 0.5399 - accuracy: 0.8250\n",
            "Epoch 46/100\n",
            "469/469 [==============================] - 2s 3ms/step - loss: 0.5377 - accuracy: 0.8268\n",
            "Epoch 47/100\n",
            "469/469 [==============================] - 2s 4ms/step - loss: 0.5373 - accuracy: 0.8266\n",
            "Epoch 48/100\n",
            "469/469 [==============================] - 2s 3ms/step - loss: 0.5369 - accuracy: 0.8256\n",
            "Epoch 49/100\n",
            "469/469 [==============================] - 2s 3ms/step - loss: 0.5338 - accuracy: 0.8268\n",
            "Epoch 50/100\n",
            "469/469 [==============================] - 2s 4ms/step - loss: 0.5360 - accuracy: 0.8257\n",
            "Epoch 51/100\n",
            "469/469 [==============================] - 2s 4ms/step - loss: 0.5303 - accuracy: 0.8273\n",
            "Epoch 52/100\n",
            "469/469 [==============================] - 2s 4ms/step - loss: 0.5254 - accuracy: 0.8274\n",
            "Epoch 53/100\n",
            "469/469 [==============================] - 2s 4ms/step - loss: 0.5272 - accuracy: 0.8291\n",
            "Epoch 54/100\n",
            "469/469 [==============================] - 2s 3ms/step - loss: 0.5318 - accuracy: 0.8271\n",
            "Epoch 55/100\n",
            "469/469 [==============================] - 2s 3ms/step - loss: 0.5191 - accuracy: 0.8311\n",
            "Epoch 56/100\n",
            "469/469 [==============================] - 2s 3ms/step - loss: 0.5203 - accuracy: 0.8289\n",
            "Epoch 57/100\n",
            "469/469 [==============================] - 1s 3ms/step - loss: 0.5227 - accuracy: 0.8298\n",
            "Epoch 58/100\n",
            "469/469 [==============================] - 2s 3ms/step - loss: 0.5164 - accuracy: 0.8317\n",
            "Epoch 59/100\n",
            "469/469 [==============================] - 2s 3ms/step - loss: 0.5206 - accuracy: 0.8298\n",
            "Epoch 60/100\n",
            "469/469 [==============================] - 2s 3ms/step - loss: 0.5174 - accuracy: 0.8308\n",
            "Epoch 61/100\n",
            "469/469 [==============================] - 2s 3ms/step - loss: 0.5178 - accuracy: 0.8298\n",
            "Epoch 62/100\n",
            "469/469 [==============================] - 2s 3ms/step - loss: 0.5114 - accuracy: 0.8317\n",
            "Epoch 63/100\n",
            "469/469 [==============================] - 2s 3ms/step - loss: 0.5096 - accuracy: 0.8314\n",
            "Epoch 64/100\n",
            "469/469 [==============================] - 2s 3ms/step - loss: 0.5021 - accuracy: 0.8366\n",
            "Epoch 65/100\n",
            "469/469 [==============================] - 2s 3ms/step - loss: 0.5058 - accuracy: 0.8356\n",
            "Epoch 66/100\n",
            "469/469 [==============================] - 2s 3ms/step - loss: 0.4971 - accuracy: 0.8391\n",
            "Epoch 67/100\n",
            "469/469 [==============================] - 2s 3ms/step - loss: 0.4936 - accuracy: 0.8406\n",
            "Epoch 68/100\n",
            "469/469 [==============================] - 2s 3ms/step - loss: 0.4915 - accuracy: 0.8411\n",
            "Epoch 69/100\n",
            "469/469 [==============================] - 2s 3ms/step - loss: 0.4871 - accuracy: 0.8418\n",
            "Epoch 70/100\n",
            "469/469 [==============================] - 2s 3ms/step - loss: 0.4809 - accuracy: 0.8454\n",
            "Epoch 71/100\n",
            "469/469 [==============================] - 2s 3ms/step - loss: 0.4818 - accuracy: 0.8443\n",
            "Epoch 72/100\n",
            "469/469 [==============================] - 2s 3ms/step - loss: 0.4795 - accuracy: 0.8454\n",
            "Epoch 73/100\n",
            "469/469 [==============================] - 2s 3ms/step - loss: 0.4772 - accuracy: 0.8467\n",
            "Epoch 74/100\n",
            "469/469 [==============================] - 2s 3ms/step - loss: 0.4712 - accuracy: 0.8494\n",
            "Epoch 75/100\n",
            "469/469 [==============================] - 2s 3ms/step - loss: 0.4697 - accuracy: 0.8483\n",
            "Epoch 76/100\n",
            "469/469 [==============================] - 2s 3ms/step - loss: 0.4683 - accuracy: 0.8489\n",
            "Epoch 77/100\n",
            "469/469 [==============================] - 2s 3ms/step - loss: 0.4713 - accuracy: 0.8475\n",
            "Epoch 78/100\n",
            "469/469 [==============================] - 2s 3ms/step - loss: 0.4702 - accuracy: 0.8487\n",
            "Epoch 79/100\n",
            "469/469 [==============================] - 2s 3ms/step - loss: 0.4721 - accuracy: 0.8472\n",
            "Epoch 80/100\n",
            "469/469 [==============================] - 2s 3ms/step - loss: 0.4670 - accuracy: 0.8483\n",
            "Epoch 81/100\n",
            "469/469 [==============================] - 2s 3ms/step - loss: 0.4649 - accuracy: 0.8488\n",
            "Epoch 82/100\n",
            "469/469 [==============================] - 2s 3ms/step - loss: 0.4655 - accuracy: 0.8499\n",
            "Epoch 83/100\n",
            "469/469 [==============================] - 2s 3ms/step - loss: 0.4629 - accuracy: 0.8500\n",
            "Epoch 84/100\n",
            "469/469 [==============================] - 2s 4ms/step - loss: 0.4614 - accuracy: 0.8511\n",
            "Epoch 85/100\n",
            "469/469 [==============================] - 2s 4ms/step - loss: 0.4571 - accuracy: 0.8521\n",
            "Epoch 86/100\n",
            "469/469 [==============================] - 2s 3ms/step - loss: 0.4534 - accuracy: 0.8547\n",
            "Epoch 87/100\n",
            "469/469 [==============================] - 2s 3ms/step - loss: 0.4540 - accuracy: 0.8544\n",
            "Epoch 88/100\n",
            "469/469 [==============================] - 2s 3ms/step - loss: 0.4525 - accuracy: 0.8530\n",
            "Epoch 89/100\n",
            "469/469 [==============================] - 2s 4ms/step - loss: 0.4559 - accuracy: 0.8515\n",
            "Epoch 90/100\n",
            "469/469 [==============================] - 2s 3ms/step - loss: 0.4437 - accuracy: 0.8554\n",
            "Epoch 91/100\n",
            "469/469 [==============================] - 2s 4ms/step - loss: 0.4512 - accuracy: 0.8526\n",
            "Epoch 92/100\n",
            "469/469 [==============================] - 2s 3ms/step - loss: 0.4470 - accuracy: 0.8563\n",
            "Epoch 93/100\n",
            "469/469 [==============================] - 2s 4ms/step - loss: 0.4481 - accuracy: 0.8546\n",
            "Epoch 94/100\n",
            "469/469 [==============================] - 2s 3ms/step - loss: 0.4490 - accuracy: 0.8554\n",
            "Epoch 95/100\n",
            "469/469 [==============================] - 2s 3ms/step - loss: 0.4454 - accuracy: 0.8542\n",
            "Epoch 96/100\n",
            "469/469 [==============================] - 2s 3ms/step - loss: 0.4456 - accuracy: 0.8539\n",
            "Epoch 97/100\n",
            "469/469 [==============================] - 2s 3ms/step - loss: 0.4420 - accuracy: 0.8577\n",
            "Epoch 98/100\n",
            "469/469 [==============================] - 2s 3ms/step - loss: 0.4360 - accuracy: 0.8558\n",
            "Epoch 99/100\n",
            "469/469 [==============================] - 2s 3ms/step - loss: 0.4365 - accuracy: 0.8576\n",
            "Epoch 100/100\n",
            "469/469 [==============================] - 2s 3ms/step - loss: 0.4379 - accuracy: 0.8574\n"
          ]
        },
        {
          "data": {
            "text/plain": [
              "<keras.callbacks.History at 0x7f332e1bf090>"
            ]
          },
          "execution_count": 19,
          "metadata": {},
          "output_type": "execute_result"
        }
      ],
      "source": [
        "model.fit(x_train, y_train, epochs=100, batch_size=batch_size)"
      ]
    },
    {
      "cell_type": "markdown",
      "metadata": {
        "id": "nNTt1SwOl6So"
      },
      "source": [
        "<b>Model Evaluation - Training Set<b>"
      ]
    },
    {
      "cell_type": "code",
      "execution_count": null,
      "metadata": {
        "colab": {
          "base_uri": "https://localhost:8080/"
        },
        "id": "0WGuMCnWmDbk",
        "outputId": "f0cf0fe4-07c5-4843-e608-f580e3a59aca"
      },
      "outputs": [
        {
          "name": "stdout",
          "output_type": "stream",
          "text": [
            "1875/1875 [==============================] - 5s 2ms/step - loss: 0.1443 - accuracy: 0.9597\n",
            "Accuracy: 95.97\n"
          ]
        }
      ],
      "source": [
        "_, accuracy = model.evaluate(x_train, y_train)\n",
        "print('Accuracy: %.2f' % (accuracy*100))"
      ]
    },
    {
      "cell_type": "markdown",
      "metadata": {
        "id": "DZQL-CfjmB8o"
      },
      "source": [
        "<b>Model Evaluation - Testing Set<b>"
      ]
    },
    {
      "cell_type": "code",
      "execution_count": null,
      "metadata": {
        "colab": {
          "base_uri": "https://localhost:8080/"
        },
        "id": "wLVNymLlmIz6",
        "outputId": "9a1684b5-8a81-4f75-9ff3-200f1e9b02df"
      },
      "outputs": [
        {
          "name": "stdout",
          "output_type": "stream",
          "text": [
            "313/313 [==============================] - 1s 2ms/step - loss: 0.2215 - accuracy: 0.9407\n",
            "Accuracy: 94.07\n"
          ]
        }
      ],
      "source": [
        "_, accuracy = model.evaluate(x_test, y_test)\n",
        "print('Accuracy: %.2f' % (accuracy*100))"
      ]
    },
    {
      "cell_type": "markdown",
      "metadata": {
        "id": "xiatGJ_Zonz3"
      },
      "source": [
        "<b> 2. Train Model using <font color = 'blue'>ADAGRAD optimiser.<b>"
      ]
    },
    {
      "cell_type": "code",
      "execution_count": null,
      "metadata": {
        "id": "DNLb8mu8owlO"
      },
      "outputs": [],
      "source": [
        "from keras.layers import Dense\n",
        "from tensorflow.keras.optimizers import Adagrad\n",
        "\n",
        "tf.keras.optimizers.Adagrad(learning_rate=0.001,initial_accumulator_value=0.1, epsilon=1e-07, name=\"Adagrad\")\n",
        "def create_model():\n",
        "  model = Sequential()\n",
        "  model.add(Dense(32, activation='relu'))\n",
        "  model.compile(loss='categorical_crossentropy', optimizer='Adagrad', metrics=['accuracy'])\n",
        "  return model"
      ]
    },
    {
      "cell_type": "code",
      "execution_count": null,
      "metadata": {
        "colab": {
          "base_uri": "https://localhost:8080/"
        },
        "id": "iZjF-LBUowwL",
        "outputId": "868f7eaf-e7f3-4953-e1b2-8c4458b864fd"
      },
      "outputs": [
        {
          "name": "stdout",
          "output_type": "stream",
          "text": [
            "Model: \"sequential_1\"\n",
            "_________________________________________________________________\n",
            " Layer (type)                Output Shape              Param #   \n",
            "=================================================================\n",
            " dense_2 (Dense)             (None, 32)                25120     \n",
            "                                                                 \n",
            " activation_2 (Activation)   (None, 32)                0         \n",
            "                                                                 \n",
            " dropout_1 (Dropout)         (None, 32)                0         \n",
            "                                                                 \n",
            " dense_3 (Dense)             (None, 10)                330       \n",
            "                                                                 \n",
            " activation_3 (Activation)   (None, 10)                0         \n",
            "                                                                 \n",
            "=================================================================\n",
            "Total params: 25,450\n",
            "Trainable params: 25,450\n",
            "Non-trainable params: 0\n",
            "_________________________________________________________________\n"
          ]
        }
      ],
      "source": [
        "model.summary()"
      ]
    },
    {
      "cell_type": "code",
      "execution_count": null,
      "metadata": {
        "colab": {
          "base_uri": "https://localhost:8080/",
          "height": 644
        },
        "id": "j3FIp_MzowzD",
        "outputId": "6b1ae44e-de47-49c5-d9bc-c178d0954045"
      },
      "outputs": [
        {
          "data": {
            "image/png": "[encoded data removed]",
            "text/plain": [
              "<IPython.core.display.Image object>"
            ]
          },
          "execution_count": 31,
          "metadata": {},
          "output_type": "execute_result"
        }
      ],
      "source": [
        "plot_model(model, to_file='mlp-mnist.png', show_shapes=True)"
      ]
    },
    {
      "cell_type": "markdown",
      "metadata": {
        "id": "2LlDkcjiwroR"
      },
      "source": [
        "<b>Compile the model using ADAGRAD Optimiser<b>"
      ]
    },
    {
      "cell_type": "code",
      "execution_count": null,
      "metadata": {
        "id": "5nmWdPGxow2U"
      },
      "outputs": [],
      "source": [
        "batch_size = 128\n",
        "hidden_units = 32\n",
        "dropout = 0.45\n",
        "# model is a 1-layer MLP with ReLU and dropout after each layer\n",
        "model = Sequential()\n",
        "model.add(Dense(hidden_units, input_dim=input_size))\n",
        "model.add(Activation('softmax'))\n",
        "model.add(Dropout(dropout))\n",
        "model.add(Dense(num_labels))\n",
        "model.add(Activation('softmax'))\n",
        "model.compile(optimizer='adagrad', loss='categorical_crossentropy', metrics=['accuracy'])\n"
      ]
    },
    {
      "cell_type": "code",
      "execution_count": null,
      "metadata": {
        "colab": {
          "base_uri": "https://localhost:8080/"
        },
        "id": "zd36yb2gow5Q",
        "outputId": "c220eec8-8a25-4fbc-fadb-bbbe9dcd4524"
      },
      "outputs": [
        {
          "name": "stdout",
          "output_type": "stream",
          "text": [
            "Epoch 1/100\n",
            "469/469 [==============================] - 2s 3ms/step - loss: 2.3035 - accuracy: 0.1010\n",
            "Epoch 2/100\n",
            "469/469 [==============================] - 1s 3ms/step - loss: 2.3003 - accuracy: 0.1109\n",
            "Epoch 3/100\n",
            "469/469 [==============================] - 1s 3ms/step - loss: 2.2974 - accuracy: 0.1216\n",
            "Epoch 4/100\n",
            "469/469 [==============================] - 1s 3ms/step - loss: 2.2946 - accuracy: 0.1344\n",
            "Epoch 5/100\n",
            "469/469 [==============================] - 1s 3ms/step - loss: 2.2914 - accuracy: 0.1456\n",
            "Epoch 6/100\n",
            "469/469 [==============================] - 1s 3ms/step - loss: 2.2882 - accuracy: 0.1568\n",
            "Epoch 7/100\n",
            "469/469 [==============================] - 1s 3ms/step - loss: 2.2846 - accuracy: 0.1761\n",
            "Epoch 8/100\n",
            "469/469 [==============================] - 1s 3ms/step - loss: 2.2815 - accuracy: 0.1883\n",
            "Epoch 9/100\n",
            "469/469 [==============================] - 1s 3ms/step - loss: 2.2776 - accuracy: 0.2064\n",
            "Epoch 10/100\n",
            "469/469 [==============================] - 1s 3ms/step - loss: 2.2740 - accuracy: 0.2163\n",
            "Epoch 11/100\n",
            "469/469 [==============================] - 1s 3ms/step - loss: 2.2700 - accuracy: 0.2294\n",
            "Epoch 12/100\n",
            "469/469 [==============================] - 1s 3ms/step - loss: 2.2654 - accuracy: 0.2433\n",
            "Epoch 13/100\n",
            "469/469 [==============================] - 1s 3ms/step - loss: 2.2602 - accuracy: 0.2529\n",
            "Epoch 14/100\n",
            "469/469 [==============================] - 1s 3ms/step - loss: 2.2539 - accuracy: 0.2639\n",
            "Epoch 15/100\n",
            "469/469 [==============================] - 1s 3ms/step - loss: 2.2470 - accuracy: 0.2687\n",
            "Epoch 16/100\n",
            "469/469 [==============================] - 1s 3ms/step - loss: 2.2399 - accuracy: 0.2688\n",
            "Epoch 17/100\n",
            "469/469 [==============================] - 1s 3ms/step - loss: 2.2324 - accuracy: 0.2710\n",
            "Epoch 18/100\n",
            "469/469 [==============================] - 1s 3ms/step - loss: 2.2241 - accuracy: 0.2689\n",
            "Epoch 19/100\n",
            "469/469 [==============================] - 1s 3ms/step - loss: 2.2153 - accuracy: 0.2685\n",
            "Epoch 20/100\n",
            "469/469 [==============================] - 1s 3ms/step - loss: 2.2062 - accuracy: 0.2662\n",
            "Epoch 21/100\n",
            "469/469 [==============================] - 1s 3ms/step - loss: 2.1988 - accuracy: 0.2594\n",
            "Epoch 22/100\n",
            "469/469 [==============================] - 1s 3ms/step - loss: 2.1887 - accuracy: 0.2603\n",
            "Epoch 23/100\n",
            "469/469 [==============================] - 1s 3ms/step - loss: 2.1815 - accuracy: 0.2554\n",
            "Epoch 24/100\n",
            "469/469 [==============================] - 1s 3ms/step - loss: 2.1743 - accuracy: 0.2504\n",
            "Epoch 25/100\n",
            "469/469 [==============================] - 1s 3ms/step - loss: 2.1655 - accuracy: 0.2523\n",
            "Epoch 26/100\n",
            "469/469 [==============================] - 1s 3ms/step - loss: 2.1600 - accuracy: 0.2496\n",
            "Epoch 27/100\n",
            "469/469 [==============================] - 1s 3ms/step - loss: 2.1539 - accuracy: 0.2527\n",
            "Epoch 28/100\n",
            "469/469 [==============================] - 1s 3ms/step - loss: 2.1482 - accuracy: 0.2549\n",
            "Epoch 29/100\n",
            "469/469 [==============================] - 1s 3ms/step - loss: 2.1403 - accuracy: 0.2554\n",
            "Epoch 30/100\n",
            "469/469 [==============================] - 1s 3ms/step - loss: 2.1332 - accuracy: 0.2591\n",
            "Epoch 31/100\n",
            "469/469 [==============================] - 1s 3ms/step - loss: 2.1297 - accuracy: 0.2571\n",
            "Epoch 32/100\n",
            "469/469 [==============================] - 1s 3ms/step - loss: 2.1221 - accuracy: 0.2605\n",
            "Epoch 33/100\n",
            "469/469 [==============================] - 1s 3ms/step - loss: 2.1177 - accuracy: 0.2654\n",
            "Epoch 34/100\n",
            "469/469 [==============================] - 1s 3ms/step - loss: 2.1108 - accuracy: 0.2674\n",
            "Epoch 35/100\n",
            "469/469 [==============================] - 1s 3ms/step - loss: 2.1058 - accuracy: 0.2736\n",
            "Epoch 36/100\n",
            "469/469 [==============================] - 1s 3ms/step - loss: 2.0994 - accuracy: 0.2796\n",
            "Epoch 37/100\n",
            "469/469 [==============================] - 1s 3ms/step - loss: 2.0935 - accuracy: 0.2844\n",
            "Epoch 38/100\n",
            "469/469 [==============================] - 1s 3ms/step - loss: 2.0870 - accuracy: 0.2880\n",
            "Epoch 39/100\n",
            "469/469 [==============================] - 1s 3ms/step - loss: 2.0805 - accuracy: 0.2934\n",
            "Epoch 40/100\n",
            "469/469 [==============================] - 1s 3ms/step - loss: 2.0751 - accuracy: 0.2966\n",
            "Epoch 41/100\n",
            "469/469 [==============================] - 1s 3ms/step - loss: 2.0680 - accuracy: 0.3022\n",
            "Epoch 42/100\n",
            "469/469 [==============================] - 2s 4ms/step - loss: 2.0630 - accuracy: 0.3076\n",
            "Epoch 43/100\n",
            "469/469 [==============================] - 2s 4ms/step - loss: 2.0561 - accuracy: 0.3103\n",
            "Epoch 44/100\n",
            "469/469 [==============================] - 1s 3ms/step - loss: 2.0497 - accuracy: 0.3102\n",
            "Epoch 45/100\n",
            "469/469 [==============================] - 1s 3ms/step - loss: 2.0467 - accuracy: 0.3115\n",
            "Epoch 46/100\n",
            "469/469 [==============================] - 1s 3ms/step - loss: 2.0384 - accuracy: 0.3156\n",
            "Epoch 47/100\n",
            "469/469 [==============================] - 1s 3ms/step - loss: 2.0354 - accuracy: 0.3168\n",
            "Epoch 48/100\n",
            "469/469 [==============================] - 1s 3ms/step - loss: 2.0287 - accuracy: 0.3169\n",
            "Epoch 49/100\n",
            "469/469 [==============================] - 1s 3ms/step - loss: 2.0230 - accuracy: 0.3190\n",
            "Epoch 50/100\n",
            "469/469 [==============================] - 1s 3ms/step - loss: 2.0188 - accuracy: 0.3183\n",
            "Epoch 51/100\n",
            "469/469 [==============================] - 1s 3ms/step - loss: 2.0136 - accuracy: 0.3197\n",
            "Epoch 52/100\n",
            "469/469 [==============================] - 1s 3ms/step - loss: 2.0119 - accuracy: 0.3186\n",
            "Epoch 53/100\n",
            "469/469 [==============================] - 1s 3ms/step - loss: 2.0042 - accuracy: 0.3217\n",
            "Epoch 54/100\n",
            "469/469 [==============================] - 1s 3ms/step - loss: 2.0022 - accuracy: 0.3207\n",
            "Epoch 55/100\n",
            "469/469 [==============================] - 1s 3ms/step - loss: 1.9977 - accuracy: 0.3216\n",
            "Epoch 56/100\n",
            "469/469 [==============================] - 1s 3ms/step - loss: 1.9931 - accuracy: 0.3201\n",
            "Epoch 57/100\n",
            "469/469 [==============================] - 1s 3ms/step - loss: 1.9868 - accuracy: 0.3229\n",
            "Epoch 58/100\n",
            "469/469 [==============================] - 1s 3ms/step - loss: 1.9837 - accuracy: 0.3226\n",
            "Epoch 59/100\n",
            "469/469 [==============================] - 1s 3ms/step - loss: 1.9784 - accuracy: 0.3236\n",
            "Epoch 60/100\n",
            "469/469 [==============================] - 1s 3ms/step - loss: 1.9742 - accuracy: 0.3255\n",
            "Epoch 61/100\n",
            "469/469 [==============================] - 1s 3ms/step - loss: 1.9726 - accuracy: 0.3245\n",
            "Epoch 62/100\n",
            "469/469 [==============================] - 1s 3ms/step - loss: 1.9674 - accuracy: 0.3249\n",
            "Epoch 63/100\n",
            "469/469 [==============================] - 1s 3ms/step - loss: 1.9671 - accuracy: 0.3228\n",
            "Epoch 64/100\n",
            "469/469 [==============================] - 1s 3ms/step - loss: 1.9598 - accuracy: 0.3244\n",
            "Epoch 65/100\n",
            "469/469 [==============================] - 1s 3ms/step - loss: 1.9596 - accuracy: 0.3231\n",
            "Epoch 66/100\n",
            "469/469 [==============================] - 1s 3ms/step - loss: 1.9543 - accuracy: 0.3237\n",
            "Epoch 67/100\n",
            "469/469 [==============================] - 1s 3ms/step - loss: 1.9542 - accuracy: 0.3232\n",
            "Epoch 68/100\n",
            "469/469 [==============================] - 1s 3ms/step - loss: 1.9497 - accuracy: 0.3248\n",
            "Epoch 69/100\n",
            "469/469 [==============================] - 1s 3ms/step - loss: 1.9459 - accuracy: 0.3248\n",
            "Epoch 70/100\n",
            "469/469 [==============================] - 1s 3ms/step - loss: 1.9456 - accuracy: 0.3234\n",
            "Epoch 71/100\n",
            "469/469 [==============================] - 1s 3ms/step - loss: 1.9409 - accuracy: 0.3248\n",
            "Epoch 72/100\n",
            "469/469 [==============================] - 1s 3ms/step - loss: 1.9376 - accuracy: 0.3255\n",
            "Epoch 73/100\n",
            "469/469 [==============================] - 1s 3ms/step - loss: 1.9367 - accuracy: 0.3234\n",
            "Epoch 74/100\n",
            "469/469 [==============================] - 1s 3ms/step - loss: 1.9337 - accuracy: 0.3256\n",
            "Epoch 75/100\n",
            "469/469 [==============================] - 1s 3ms/step - loss: 1.9302 - accuracy: 0.3246\n",
            "Epoch 76/100\n",
            "469/469 [==============================] - 1s 3ms/step - loss: 1.9242 - accuracy: 0.3289\n",
            "Epoch 77/100\n",
            "469/469 [==============================] - 1s 3ms/step - loss: 1.9270 - accuracy: 0.3244\n",
            "Epoch 78/100\n",
            "469/469 [==============================] - 1s 3ms/step - loss: 1.9208 - accuracy: 0.3262\n",
            "Epoch 79/100\n",
            "469/469 [==============================] - 1s 3ms/step - loss: 1.9183 - accuracy: 0.3268\n",
            "Epoch 80/100\n",
            "469/469 [==============================] - 1s 3ms/step - loss: 1.9167 - accuracy: 0.3265\n",
            "Epoch 81/100\n",
            "469/469 [==============================] - 1s 3ms/step - loss: 1.9142 - accuracy: 0.3238\n",
            "Epoch 82/100\n",
            "469/469 [==============================] - 1s 3ms/step - loss: 1.9137 - accuracy: 0.3268\n",
            "Epoch 83/100\n",
            "469/469 [==============================] - 1s 3ms/step - loss: 1.9107 - accuracy: 0.3261\n",
            "Epoch 84/100\n",
            "469/469 [==============================] - 1s 3ms/step - loss: 1.9067 - accuracy: 0.3267\n",
            "Epoch 85/100\n",
            "469/469 [==============================] - 1s 3ms/step - loss: 1.9038 - accuracy: 0.3258\n",
            "Epoch 86/100\n",
            "469/469 [==============================] - 2s 3ms/step - loss: 1.9009 - accuracy: 0.3283\n",
            "Epoch 87/100\n",
            "469/469 [==============================] - 1s 3ms/step - loss: 1.9047 - accuracy: 0.3248\n",
            "Epoch 88/100\n",
            "469/469 [==============================] - 2s 3ms/step - loss: 1.8968 - accuracy: 0.3291\n",
            "Epoch 89/100\n",
            "469/469 [==============================] - 2s 3ms/step - loss: 1.8940 - accuracy: 0.3294\n",
            "Epoch 90/100\n",
            "469/469 [==============================] - 2s 3ms/step - loss: 1.8951 - accuracy: 0.3275\n",
            "Epoch 91/100\n",
            "469/469 [==============================] - 1s 3ms/step - loss: 1.8936 - accuracy: 0.3266\n",
            "Epoch 92/100\n",
            "469/469 [==============================] - 1s 3ms/step - loss: 1.8917 - accuracy: 0.3267\n",
            "Epoch 93/100\n",
            "469/469 [==============================] - 1s 3ms/step - loss: 1.8882 - accuracy: 0.3268\n",
            "Epoch 94/100\n",
            "469/469 [==============================] - 1s 3ms/step - loss: 1.8892 - accuracy: 0.3262\n",
            "Epoch 95/100\n",
            "469/469 [==============================] - 1s 3ms/step - loss: 1.8849 - accuracy: 0.3271\n",
            "Epoch 96/100\n",
            "469/469 [==============================] - 2s 3ms/step - loss: 1.8822 - accuracy: 0.3284\n",
            "Epoch 97/100\n",
            "469/469 [==============================] - 1s 3ms/step - loss: 1.8803 - accuracy: 0.3280\n",
            "Epoch 98/100\n",
            "469/469 [==============================] - 1s 3ms/step - loss: 1.8793 - accuracy: 0.3277\n",
            "Epoch 99/100\n",
            "469/469 [==============================] - 1s 3ms/step - loss: 1.8754 - accuracy: 0.3283\n",
            "Epoch 100/100\n",
            "469/469 [==============================] - 1s 3ms/step - loss: 1.8758 - accuracy: 0.3262\n"
          ]
        },
        {
          "data": {
            "text/plain": [
              "<keras.callbacks.History at 0x7f332e128390>"
            ]
          },
          "execution_count": 33,
          "metadata": {},
          "output_type": "execute_result"
        }
      ],
      "source": [
        "model.fit(x_train, y_train, epochs=100, batch_size=batch_size)"
      ]
    },
    {
      "cell_type": "markdown",
      "metadata": {
        "id": "SbwPYAfow_Ix"
      },
      "source": [
        "<b>Model Evaluation - Training Set<b>"
      ]
    },
    {
      "cell_type": "code",
      "execution_count": null,
      "metadata": {
        "colab": {
          "base_uri": "https://localhost:8080/"
        },
        "id": "Dzljy7o3ow8s",
        "outputId": "7f98a247-906b-4bdd-f694-ccf7fa31bd11"
      },
      "outputs": [
        {
          "name": "stdout",
          "output_type": "stream",
          "text": [
            "1875/1875 [==============================] - 3s 2ms/step - loss: 1.8078 - accuracy: 0.5180\n",
            "Accuracy: 51.80\n"
          ]
        }
      ],
      "source": [
        "_, accuracy = model.evaluate(x_train, y_train)\n",
        "print('Accuracy: %.2f' % (accuracy*100))"
      ]
    },
    {
      "cell_type": "markdown",
      "metadata": {
        "id": "ffnl23Q2xGRx"
      },
      "source": [
        "<b>Model Evaluation - Testing Set<b>"
      ]
    },
    {
      "cell_type": "code",
      "execution_count": null,
      "metadata": {
        "colab": {
          "base_uri": "https://localhost:8080/"
        },
        "id": "Zj2qTST0xNH-",
        "outputId": "e4245ea0-3e1e-4ba8-c701-8a3d3cc7c14f"
      },
      "outputs": [
        {
          "name": "stdout",
          "output_type": "stream",
          "text": [
            "313/313 [==============================] - 1s 2ms/step - loss: 1.8066 - accuracy: 0.5158\n",
            "Accuracy: 51.58\n"
          ]
        }
      ],
      "source": [
        "_, accuracy = model.evaluate(x_test, y_test)\n",
        "print('Accuracy: %.2f' % (accuracy*100))"
      ]
    },
    {
      "cell_type": "markdown",
      "metadata": {
        "id": "nAG-701Y0D79"
      },
      "source": [
        "<b> 3. Train Model using <font color = 'blue'>SGD optimiser.<b>"
      ]
    },
    {
      "cell_type": "code",
      "execution_count": null,
      "metadata": {
        "id": "LVjX8NBp0vrw"
      },
      "outputs": [],
      "source": [
        "from keras.layers import Dense\n",
        "from tensorflow.keras.optimizers import SGD\n",
        "tf.keras.optimizers.SGD(learning_rate=0.01, momentum=0.0, nesterov=False, name=\"SGD\")\n",
        "def create_model():\n",
        "  model3 = Sequential()\n",
        "  model3.add(Dense(32, activation='relu'))\n",
        "  model3.compile(loss='categorical_crossentropy', optimizer='SGD', metrics=['accuracy'])\n",
        "  return model"
      ]
    },
    {
      "cell_type": "code",
      "execution_count": null,
      "metadata": {
        "colab": {
          "base_uri": "https://localhost:8080/"
        },
        "id": "5UJmWDJw0v55",
        "outputId": "602f7179-bdd7-4188-9ecb-2387a28de2af"
      },
      "outputs": [
        {
          "name": "stdout",
          "output_type": "stream",
          "text": [
            "Model: \"sequential_24\"\n",
            "_________________________________________________________________\n",
            " Layer (type)                Output Shape              Param #   \n",
            "=================================================================\n",
            " dense_48 (Dense)            (None, 32)                25120     \n",
            "                                                                 \n",
            " activation_48 (Activation)  (None, 32)                0         \n",
            "                                                                 \n",
            " dropout_24 (Dropout)        (None, 32)                0         \n",
            "                                                                 \n",
            " dense_49 (Dense)            (None, 10)                330       \n",
            "                                                                 \n",
            " activation_49 (Activation)  (None, 10)                0         \n",
            "                                                                 \n",
            "=================================================================\n",
            "Total params: 25,450\n",
            "Trainable params: 25,450\n",
            "Non-trainable params: 0\n",
            "_________________________________________________________________\n"
          ]
        }
      ],
      "source": [
        "model.summary()"
      ]
    },
    {
      "cell_type": "code",
      "execution_count": null,
      "metadata": {
        "colab": {
          "base_uri": "https://localhost:8080/",
          "height": 644
        },
        "id": "X9vW6he30v9T",
        "outputId": "8b5f0021-9408-4829-901a-1e51c9cbe485"
      },
      "outputs": [
        {
          "data": {
            "image/png": "[encoded data removed]",
            "text/plain": [
              "<IPython.core.display.Image object>"
            ]
          },
          "execution_count": 97,
          "metadata": {},
          "output_type": "execute_result"
        }
      ],
      "source": [
        "plot_model(model, to_file='mlp-mnist.png', show_shapes=True)"
      ]
    },
    {
      "cell_type": "markdown",
      "metadata": {
        "id": "a-vrG_kM1RWu"
      },
      "source": [
        "<b>Compile the model using SGD Optimiser<b>"
      ]
    },
    {
      "cell_type": "code",
      "execution_count": null,
      "metadata": {
        "id": "WEAiPvhu0wFE"
      },
      "outputs": [],
      "source": [
        "batch_size = 128\n",
        "hidden_units = 32\n",
        "dropout = 0.1\n",
        "# model is a 1-layer MLP with ReLU and dropout after each layer\n",
        "model = Sequential()\n",
        "model.add(Dense(hidden_units, input_dim=input_size))\n",
        "model.add(Activation('softmax'))\n",
        "model.add(Dropout(dropout))\n",
        "model.add(Dense(num_labels))\n",
        "model.add(Activation('relu'))\n",
        "model.compile(optimizer='SGD', loss='categorical_crossentropy', metrics=['accuracy'])"
      ]
    },
    {
      "cell_type": "code",
      "execution_count": null,
      "metadata": {
        "colab": {
          "base_uri": "https://localhost:8080/"
        },
        "id": "5Nn8BG211L3m",
        "outputId": "ef22464c-d1b4-4abe-f710-94e0443c2843"
      },
      "outputs": [
        {
          "name": "stdout",
          "output_type": "stream",
          "text": [
            "Epoch 1/10\n",
            "469/469 [==============================] - 2s 3ms/step - loss: 2.4266 - accuracy: 0.0972\n",
            "Epoch 2/10\n",
            "469/469 [==============================] - 1s 3ms/step - loss: 2.2554 - accuracy: 0.1036\n",
            "Epoch 3/10\n",
            "469/469 [==============================] - 1s 3ms/step - loss: 2.1627 - accuracy: 0.2113\n",
            "Epoch 4/10\n",
            "469/469 [==============================] - 1s 3ms/step - loss: 2.0246 - accuracy: 0.3630\n",
            "Epoch 5/10\n",
            "469/469 [==============================] - 1s 3ms/step - loss: 1.8776 - accuracy: 0.3981\n",
            "Epoch 6/10\n",
            "469/469 [==============================] - 1s 3ms/step - loss: 1.7286 - accuracy: 0.3512\n",
            "Epoch 7/10\n",
            "469/469 [==============================] - 1s 3ms/step - loss: 1.8436 - accuracy: 0.2167\n",
            "Epoch 8/10\n",
            "469/469 [==============================] - 1s 3ms/step - loss: 1.7188 - accuracy: 0.2004\n",
            "Epoch 9/10\n",
            "469/469 [==============================] - 2s 3ms/step - loss: 1.5937 - accuracy: 0.3601\n",
            "Epoch 10/10\n",
            "469/469 [==============================] - 1s 3ms/step - loss: 1.5261 - accuracy: 0.2797\n"
          ]
        },
        {
          "data": {
            "text/plain": [
              "<keras.callbacks.History at 0x7f332cbe0150>"
            ]
          },
          "execution_count": 99,
          "metadata": {},
          "output_type": "execute_result"
        }
      ],
      "source": [
        "model.fit(x_train, y_train, epochs=10, batch_size=batch_size)"
      ]
    },
    {
      "cell_type": "markdown",
      "metadata": {
        "id": "DAXCNkRM1uEM"
      },
      "source": [
        "<b>Model Evaluation - Training Set<b>"
      ]
    },
    {
      "cell_type": "code",
      "execution_count": null,
      "metadata": {
        "colab": {
          "base_uri": "https://localhost:8080/"
        },
        "id": "pXJKp05l1L7H",
        "outputId": "1e23d74d-0349-4680-db18-b01f6bd10b5d"
      },
      "outputs": [
        {
          "name": "stdout",
          "output_type": "stream",
          "text": [
            "1875/1875 [==============================] - 3s 2ms/step - loss: 1.2326 - accuracy: 0.5698\n",
            "Accuracy: 56.98\n"
          ]
        }
      ],
      "source": [
        "_, accuracy = model.evaluate(x_train, y_train)\n",
        "print('Accuracy: %.2f' % (accuracy*100))"
      ]
    },
    {
      "cell_type": "markdown",
      "metadata": {
        "id": "OgQnYEcH1_Al"
      },
      "source": [
        "<b>Model Evaluation - Testing Set<b>"
      ]
    },
    {
      "cell_type": "code",
      "execution_count": null,
      "metadata": {
        "colab": {
          "base_uri": "https://localhost:8080/"
        },
        "id": "j7NF7jMs2AoC",
        "outputId": "9cc9ad5e-4214-46f4-fa93-498afab54da7"
      },
      "outputs": [
        {
          "name": "stdout",
          "output_type": "stream",
          "text": [
            "313/313 [==============================] - 1s 2ms/step - loss: 1.2389 - accuracy: 0.5749\n",
            "Accuracy: 57.49\n"
          ]
        }
      ],
      "source": [
        "_, accuracy = model.evaluate(x_test, y_test)\n",
        "print('Accuracy: %.2f' % (accuracy*100))"
      ]
    },
    {
      "cell_type": "markdown",
      "metadata": {
        "id": "pxzhAYAM60gA"
      },
      "source": [
        "<b> 4. Train Model using <font color = 'blue'>RMSprop optimiser.<b>"
      ]
    },
    {
      "cell_type": "code",
      "execution_count": null,
      "metadata": {
        "id": "XHphS4nQ-wlY"
      },
      "outputs": [],
      "source": [
        "from keras.layers import Dense\n",
        "from tensorflow.keras.optimizers import RMSprop\n",
        "tf.keras.optimizers.RMSprop(learning_rate=0.005, rho=0.2, momentum=0.9, epsilon=1e-07, centered=False, name=\"RMSprop\")\n",
        "def create_model():\n",
        "  model = Sequential()\n",
        "  model.add(Dense(32, activation='relu'))\n",
        "  model.compile(loss='categorical_crossentropy', optimizer='RMSprop', metrics=['accuracy'])\n",
        "  return model"
      ]
    },
    {
      "cell_type": "code",
      "execution_count": null,
      "metadata": {
        "colab": {
          "base_uri": "https://localhost:8080/"
        },
        "id": "4ah00duB-wyT",
        "outputId": "53fec488-3b34-4750-8e56-68cc329a2c4a"
      },
      "outputs": [
        {
          "name": "stdout",
          "output_type": "stream",
          "text": [
            "Model: \"sequential_31\"\n",
            "_________________________________________________________________\n",
            " Layer (type)                Output Shape              Param #   \n",
            "=================================================================\n",
            " dense_62 (Dense)            (None, 32)                25120     \n",
            "                                                                 \n",
            " activation_62 (Activation)  (None, 32)                0         \n",
            "                                                                 \n",
            " dropout_31 (Dropout)        (None, 32)                0         \n",
            "                                                                 \n",
            " dense_63 (Dense)            (None, 10)                330       \n",
            "                                                                 \n",
            " activation_63 (Activation)  (None, 10)                0         \n",
            "                                                                 \n",
            "=================================================================\n",
            "Total params: 25,450\n",
            "Trainable params: 25,450\n",
            "Non-trainable params: 0\n",
            "_________________________________________________________________\n"
          ]
        }
      ],
      "source": [
        "model.summary()"
      ]
    },
    {
      "cell_type": "code",
      "execution_count": null,
      "metadata": {
        "colab": {
          "base_uri": "https://localhost:8080/",
          "height": 644
        },
        "id": "Kz9moc9p-w3M",
        "outputId": "debfca89-e320-4e7d-9f3a-1b77e8975d0c"
      },
      "outputs": [
        {
          "data": {
            "image/png": "[encoded data removed]",
            "text/plain": [
              "<IPython.core.display.Image object>"
            ]
          },
          "execution_count": 127,
          "metadata": {},
          "output_type": "execute_result"
        }
      ],
      "source": [
        "plot_model(model, to_file='mlp-mnist.png', show_shapes=True)"
      ]
    },
    {
      "cell_type": "markdown",
      "metadata": {
        "id": "_yGwJkNN_kQ5"
      },
      "source": [
        "<b>Compile the model using RMSprop Optimiser<b>"
      ]
    },
    {
      "cell_type": "code",
      "execution_count": null,
      "metadata": {
        "id": "x8EijkY2-w8j"
      },
      "outputs": [],
      "source": [
        "batch_size = 128\n",
        "hidden_units = 32\n",
        "dropout = 0.45\n",
        "# model is a 1-layer MLP with ReLU and dropout after each layer\n",
        "model = Sequential()\n",
        "model.add(Dense(hidden_units, input_dim=input_size))\n",
        "model.add(Activation('tanh'))\n",
        "model.add(Dropout(dropout))\n",
        "model.add(Dense(num_labels))\n",
        "model.add(Activation('relu'))\n",
        "model.compile(optimizer='RMSprop', loss='categorical_crossentropy', metrics=['accuracy'])"
      ]
    },
    {
      "cell_type": "code",
      "execution_count": null,
      "metadata": {
        "colab": {
          "base_uri": "https://localhost:8080/"
        },
        "id": "dSVkLb97-xAO",
        "outputId": "ced79b8e-4ac3-4bfc-f688-b91e76df34b9"
      },
      "outputs": [
        {
          "name": "stdout",
          "output_type": "stream",
          "text": [
            "Epoch 1/10\n",
            "469/469 [==============================] - 3s 4ms/step - loss: nan - accuracy: 0.2537\n",
            "Epoch 2/10\n",
            "469/469 [==============================] - 2s 4ms/step - loss: nan - accuracy: 0.0987\n",
            "Epoch 3/10\n",
            "469/469 [==============================] - 2s 4ms/step - loss: nan - accuracy: 0.0987\n",
            "Epoch 4/10\n",
            "469/469 [==============================] - 2s 4ms/step - loss: nan - accuracy: 0.0987\n",
            "Epoch 5/10\n",
            "469/469 [==============================] - 2s 4ms/step - loss: nan - accuracy: 0.0987\n",
            "Epoch 6/10\n",
            "469/469 [==============================] - 2s 4ms/step - loss: nan - accuracy: 0.0987\n",
            "Epoch 7/10\n",
            "469/469 [==============================] - 2s 4ms/step - loss: nan - accuracy: 0.0987\n",
            "Epoch 8/10\n",
            "469/469 [==============================] - 2s 4ms/step - loss: nan - accuracy: 0.0987\n",
            "Epoch 9/10\n",
            "469/469 [==============================] - 2s 4ms/step - loss: nan - accuracy: 0.0987\n",
            "Epoch 10/10\n",
            "469/469 [==============================] - 2s 4ms/step - loss: nan - accuracy: 0.0987\n"
          ]
        },
        {
          "data": {
            "text/plain": [
              "<keras.callbacks.History at 0x7f332f1ecb50>"
            ]
          },
          "execution_count": 175,
          "metadata": {},
          "output_type": "execute_result"
        }
      ],
      "source": [
        "model.fit(x_train, y_train, epochs=10, batch_size=batch_size)"
      ]
    },
    {
      "cell_type": "markdown",
      "metadata": {
        "id": "QJaLaoBdAU2l"
      },
      "source": [
        "<b>Model Evaluation - Training Set<b>"
      ]
    },
    {
      "cell_type": "code",
      "execution_count": null,
      "metadata": {
        "colab": {
          "base_uri": "https://localhost:8080/"
        },
        "id": "HJFkKxabAXeK",
        "outputId": "b6bf0054-fd7f-40c1-f18f-6a243a28c8ec"
      },
      "outputs": [
        {
          "name": "stdout",
          "output_type": "stream",
          "text": [
            "1875/1875 [==============================] - 4s 2ms/step - loss: nan - accuracy: 0.0987\n",
            "Accuracy: 9.87\n"
          ]
        }
      ],
      "source": [
        "_, accuracy = model.evaluate(x_train, y_train)\n",
        "print('Accuracy: %.2f' % (accuracy*100))"
      ]
    },
    {
      "cell_type": "markdown",
      "metadata": {
        "id": "HSmSfptTAgGb"
      },
      "source": [
        "<b>Model Evaluation - Testing Set<b>"
      ]
    },
    {
      "cell_type": "code",
      "execution_count": null,
      "metadata": {
        "colab": {
          "base_uri": "https://localhost:8080/"
        },
        "id": "Px3xD-T1AXhv",
        "outputId": "9030caac-3f54-4fed-8b6a-9428b0d9894f"
      },
      "outputs": [
        {
          "name": "stdout",
          "output_type": "stream",
          "text": [
            "313/313 [==============================] - 1s 3ms/step - loss: nan - accuracy: 0.0761\n",
            "Accuracy: 7.61\n"
          ]
        }
      ],
      "source": [
        "_, accuracy = model.evaluate(x_test, y_test)\n",
        "print('Accuracy: %.2f' % (accuracy*100))"
      ]
    },
    {
      "cell_type": "markdown",
      "metadata": {
        "id": "WE3iBccHAXnp"
      },
      "source": [
        "<b><font color='red'>(d) Architecture evaluation<b></font><br><br>\n",
        "• Pick the best optimizer and it’s hyper-parameters from the previous part.<br>\n",
        "• Using sub training and validation datasets, find the best architecture in terms of the number of layers, the number of units, and activation functions.<br>\n",
        "• Report 3 best architectures in terms of test accuracy. Please include architecture diagram as shown in Figure 1."
      ]
    },
    {
      "cell_type": "markdown",
      "metadata": {
        "id": "dPZOK7PiAXrO"
      },
      "source": [
        "<table>\n",
        "         <tr>\n",
        "            <th>Optimisers</th>\n",
        "            <th>Training Accuracy</th>\n",
        "            <th>Testing Accuracy</th>\n",
        "         </tr>\n",
        "</table>   \n",
        "<table>\n",
        "         <tr>\n",
        "            <th>Adam</th>\n",
        "            <th>95.97%</th>\n",
        "            <th>94.07%</th>\n",
        "         </tr>\n",
        "</table> \n",
        "<table>\n",
        "         <tr>\n",
        "            <th>Adagrad</th>\n",
        "            <th>51.80%</th>\n",
        "            <th>51.58%</th>\n",
        "         </tr>\n",
        "</table>    \n",
        "<table>    \n",
        "         <tr>\n",
        "            <th>SGD</th>\n",
        "            <th>56.98%</th>\n",
        "            <th>57.49%</th>\n",
        "         </tr>\n",
        "</table>\n",
        "<table>\n",
        "         <tr>\n",
        "            <th>RMSprop</th>\n",
        "            <th>9.87%</th>\n",
        "            <th>7.61%</th>\n",
        "         </tr>\n",
        "</table>\n"
      ]
    },
    {
      "cell_type": "markdown",
      "metadata": {
        "id": "ZwXzWE6uW-Tf"
      },
      "source": [
        "<Font color='red'><b>Best Optimiser For Architecture Evaluation 1 is Adam</font></b><br>\n",
        "    <font color='blue'>Hyper parameters used for Adam </font><br>\n",
        "    1. learning_rate=0.01,<br>\n",
        "    2.beta_1=0.9, <br>\n",
        "    3.beta_2=0.999, <br>\n",
        "    4.epsilon=1e-07, <br>\n",
        "    5.amsgrad=False, <br>\n",
        "    6.Activation Function : relu & softmax<br>\n",
        "    7. Number Of Hidden Units : 32<br>\n",
        "    8. Loss : Catergorical_crossentropy<br>\n",
        "    9. Metrics: Accuracy<br>"
      ]
    },
    {
      "cell_type": "markdown",
      "metadata": {
        "id": "wEMgeIqkW-Tf"
      },
      "source": [
        "<font color = 'red'><b>Architecture 1 Diagram</font><b>"
      ]
    },
    {
      "cell_type": "markdown",
      "metadata": {
        "id": "PvS68M8wW-Tf"
      },
      "source": [
        "![arch1.png](data:image/png;base64,iVBORw0KGgoAAAANSUhEUgAAAiUAAAEtCAYAAADX1hAbAAAAAXNSR0IArs4c6QAAAARnQU1BAACxjwv8YQUAAAAJcEhZcwAADsMAAA7DAcdvqGQAACddSURBVHhe7d19iFzV/cfx7/6UFgSrpVZ36W5hNakPsFVWxczW2HYxIArFzLBBd1CIQRBTCk2jts0m1s2EVk1TCo0INgaUmUjCbopUESLzh5GZ2OiiDfhAogvull2tbRVBaFHmd7/nnjtzZzKzT/N05u77JWPm3nm6c3bm3M+cc+49XQWPAAAAtNn/2X8BAADailACAACcQCgBAABOIJQAAAAnEEoAAIATCCUAAMAJhBIAAOAEQgkAAHACoQQAADiBUAIAAJxAKAEAAE4glAAAACcQSgAAgBMIJQAAwAmEEgAA4ARCCQAAcAKhBAAAOIFQAgAAnEAoAQAATiCUNNW8ZDZ1SdfuvF1ephN7pGtTxnuWs+V3d0nikH9L+PpK1Pv4xejzd3WdfVnxay5QLksym5FE1x7x/yr+32jPCbPQQHnZ05WQzKxdBAAsilDSTCcOSHIgJaldWbsDbJzYzoJM3NltlzrAeE4KhULZxY3t75bRwwXZsc4uNoQGkiEZs0sAgKUhlDRR/tiYpDbskOHxMdkbbhUwv/QT3q/1rtIvfvPr3bYiVLQCZIstDcGv+1LrxvyhhAztEpkc7SlrOanVGhG+TVsHKh9f3moSbkXwrye87Q4eW2wJCj3fslW2epS1YujOvfT81Vqcam+vqvZ4b11fUia9yDBkXqfiMbo9wf1D22VeZ/eemn+jIrP9Q94DcpKyqwAAS0MoaZq8ZHelZNj7BR7bnBY5mi3fiR0RScwUpHB41PutrjvKCX+5UJDcQFK2BjvaI0mZ3qDr5yQ94u1IK3bM3XdOSG5cJJ6ZMy0PJmScSsuctkbMeK/rhY1gh2tuE9ti4d02Fdsj0xWPX8zkwHbzeG1ZyO/ukeSAfb58SsZiK+iuWDcsqSMTkrWPmz8+IZPjwxIzYWFIprztCrY3vmvvMp6/1uNjskOve5EhV9jhvU6IBoqYFyTz3v21vCUpPaHynvTC2/bguby/y4FqIax3VCZs+QAAlodQ0iwnsjJmdq6e3mFJSGnH6xuU/l57Ve87kpBhu1zeNeMHG+1mGN4YN2tqm5fs0UmJbxz27u3xdpDbvcAxNa0Bx78ttcHuhs3Os2KnvATxNf32moYub+uC51u3xQtNkzJdKzTsGiq1QJhLEGD6pd973MTxym30u1WK5dDb75XYcqzg8bPTMjmSli22vEe3pbztDnW9hf+eI2YNAKCBCCVNol03pR1xjySPBDtea8TbGdur89NT9loVofstlXbFBDt/0zVzZtpbOy3TR/zb6zHYX96aMhYLQoa+xyAAVXHWmJIJGTUhzA9bZhtnszJxJAhhnnBXykrGaCzz8Wf9HbwgE46BpUAGAGgGQkkzzGZk7664pG13TNB9IKMHSr+6Q7r7l9cGsBi/+yF02am/77VFwr996RYLMhXv0bsspQuoUvf6hMS1RUJbKoLWCO3SKnal6GUpYzTC27v8x5/1d9DtsVcBAM1HKGkCMy4i1B1jmO6DMclWHYfg/SIPjaswg1FXdBix3+owti8YhOkP9PQHgnZL/4DI2DH7vGZAZvUxIJPB+BftVjJrqonJ8PikJA+Gn2+Fg11Nd8iYDGmICLqDKswf2ltzW5ayvQs9vsj8HYKxIvOS2ec9ohiSAADNRihpuIpxHUW6E/dCQTEwhOj4jvygJPv8rgYzUNW0bixN/5p48egZM/B1ICk9QZfFeK7YehHbOSfpU7ZLqS8pg3m/CyX8+NjOnKS8HbN5/LF+SS/QulL5fJKZqz3A86wxJd6lGLyC8TKhrhuvvLZkvIBlu4e2yvaqY1Zqb+8Cj7cB0T/6JsT8HXTArj6mR5KyvL8DAKA+XQVt2wYAAGgzWkoAAIATCCUAAMAJhBIAAOAEQgkAAHACoQQAADiBUNJiOv9M2WGxelnROUlKyielq6LszKaL3DfMnHukjin+KyfbazXzvhebj8c/l8uKzq8CAGgoQkk7jNgJ84Izje4aatpO0YSgmEiu+Hpzkjjas4IgtIIp/tftsBMOtoOe/GxKUuNSfnp/AICzCCVt559ULTxnjDmja7VWjbIWD78Fw8z8q/Pb2JOflcvLgVGR9Ex44j0NFxqEghl3bQvIIf+MrKXX1JmLa0zxb1tAMsXt9G63Z3Qt2+ZwS0no9srWi+rv13+9xCa/ZakytJmwtVCw0nl0JCFbNieqnN7ff27zmruzdp2vvCWrtJ1+a1TGtKr4j/NKpHjfxVpjAABLQShpO51tNy6J9X57ggkZekZXbdUw8+X02B2yzuUyVZxrZi4zJXu9Hbg5g6sXauKZubPnnamYfbgkPDOvb2x0ujgtv4xu9XayC0zxr44kZXqD3/KS1lPE99nH51NeQKoSArbpGWT9bS/o2Wvt6elrv1/f5MB285jKFhp93/6cPtXpqf5Fz6prZkouP71/frc9W6u+5gbvvdv1GqJ6RgeLrUq58Gn0PZNeGQ3b7YzvGpKeM/62Vd4PALAyhJJ2CE6Lbi5DMpXZb2fMrThFvdmhVp95V3fKK5n8zufPgxMWz2zxg4d5zYoZjasKTgnvP1fp8eUz61al3TomUCz+flc2M68+rxSDXmxDqjTnj3fb9Clv67fZbqV1W0qnptftCgUwPf1+mWAeHHOa+rikN/v3POt+AIAVIZS0Q9mYkoJsP1M+xkO7YoIuBNM1o9P6e7vDHTMJmbDz4zR6AOlg/zIDzki/LD0u+F1GYuehCbqeAtXfr2/Z26W06+bIZHEuoa7YmIjOQmxuXGjm41C3jnfpGS2fI3hlAQkAsFSEEgfoL3k5NV0MGaXp9u0l6KbQCePsurmNE9Kz2GDVdcOSCs0+XFLeZaRKrRN+S0LjeaEqeD/eZg+FQlXN97tC+YNJmRzPlT1nbnzMdHf5XVf+/SrNH9pa6tbxLnMZWkAAoJUIJQ7IH/N+yQ/0S7f3n86WW5pJ2D9c1Qz+LDs817f4L3edKVck2Rd+nLYG6OzB222Xka84/b9pZSgPLPXT91ExGHSx97tiGri8oLOhPNiYmZDNe6x4zRMHJFm15UQHCZe3lAAAmotQ0g5lY0q6/IGetnXADFwdCG7X8JDzx470jsr+zJQM2cf0HE3IfjumxOxwqx594z+faZmwj9Mp+Sc2zp3VGpEamPZfs08HpE74gaXWFP/LFpMdOri12J0iklvs/S6i5tE3Ori3ON6lpHt9QuJeuR84oa+5X9JiX3Nfv6TH7X3u3C6p4t8mK8P58hYsAEBzdRW0nRqrmLac9Mj0tmWegwQAgAajpQQAADiBlhIAAOAEWkoAAIATCCUAAMAJhBIAAOAEQgkAAHACoQQAADiBUAIAAJxAKAEAAE4glAAAACcQSgAAgBMIJQAAwAmEEgAA4ARCCQAAcAKhBAAAOIFQAgAAnEAoWbF5yWzqkq6uKpdNGe/W5Zk/lJCu3Xm7VMOJPd7zJyQza5cjqbxc95ywqyvkd3u3L1Be5nbzHKXyKq0LX/aIeZbZjCTsuvBr6t8lcWi5f00AwEoQSlasW0YPF6RQ8C4zaYl7/6Vn7PLhUe/WRvN21vumJDUuMnE8ujvJ/O4eSUpa5my5TsWqhDAvnA3tster0CAxdMo+R35Qkn1+8IjttH8fc5mT9IhIPLNFYt5t+YNJGczb19wXhMq8HBgdlO13Nv6vCQA4G6GkWUyrhv01Hm45Cf0iL/6K9+7bMzopsmuo9q//2axMSEK2bE6IjB7wf92HhFsBwr/0z17vt0SU7pOXPaHt6NqU8LfPbrNpwbGPr2ylCd9mWhPMe7MtD4Y+d3jZOut+gXmZPiWS2mZDXe+obB+frAhh3nN6KULDWS3TZyYlvnHYf451w5KSMclWtricOGDCz34TOPR149Lf613t7ZfBI9MyrWsP7ZUpG1oAAM1HKGkG3enGpmzLifeL3Nv99Ziw4QWCbfYXefAr/qC3ft0OmcvERcZzUthZfRc4f3xCRHe0ZkddvpM1LQPiPbbYuuDv8GutX9ARkYRut7b2mLA0KDnbupDzAoLZXqW3HU34rRGFnAyObpWMDEtiJLRtJ7IyNj589k7dew8ThR1L3tlPntGI4MvvHjJBYdgun80PNoP9QetGv/SPiExNh4ONtjqNlcKP9//+gUmZ1sA1Oy1TI95jvJI64L0/P7QAAFqBUNIEGiAmRxIyrL+8vR3e6LaUyKlpb1dYwQsjtUJIuXnJHvXCwnp/Bxnb4P32PxbEC71tUlIb7PMUd/i11i9m0G8xULp9ocf0r/GCk5U/NlZqjfDusaMwIaO93TK8MV4MAHqf4usviYYDkbFQ90k23E3jhb29p4LWjVqmZdoLVguyrSRb1tllT2yzhrYu6eqbkMS+UZn2wo94oWU6aGlawTghAMDyEEqa5UhSeoJuj9iYt6xdAjoOJeftAe36ql0YVWjXzZFJSfaFnm9X1j621k54CTvnakwrQaB80KnpYrLrtTWimu71CZGjWe8eGihSMhza8S9FbGdOUsWyy4qMi8TX6BZpK5MfGBZuu/BbRhZSHqgsE9q01ccLV+KHny29/r/aGpQbSMqByi4gAEBDEUqaRbtibLeHfwlaHLRVwa7zUsXQEn6B6yDMyYrny42PyV5zVEitnfDiO2dDuyvs1Urzh7aWBp16F9PFZPgtGlX1DktCJiR7qEbXzaJC5VPYIv1BV0xFMDMDXauOwfG3rdRd44ezUneOhqV4sdWpGjPoVbt2vLKZHOg34UVbicq7gAAAjUYoaQJtLYjv2lt+KKoJH6FBpQG706vN78Ko7AbRneSkaZGwXR5Bd44ZRKqvUWu9vxisN11N5tpi9EiU0j1Lr6/0fQWDZ7ULRyQ5utyuG5+WVfEQXO1mOWJbW4otGUEo89bVGINTtm06rkVCLTYmhIW6qCrZLiLTtdPbL3Hb7aaDZ0vBBgDQFF4Fj3rNpAtxiRfSM3ZZ5VMFLV7/kirk7OpF148X1/jM+tD9AuY1pZDK68JcIT0SPGewTtVYbx+r6+KZdCEVbLu+1kjae1Qg590WPN7bhorbvWBQfO54pvQo//mrbHNgwdvDr1lRpiHmtYOyqvJ8pW2r8ncpe49hfnmVyi/0PJV/FwBAw3Xp/7xKF2gYPeqn58z2JQ7iBQDAR/cNGkq7X8xhxAQSAMAy0VICAACcQEsJAABwAqEEiLgf/ehHxXPNcFn+RcsPQGvQfQNEnO5Y+ZqvHOUHtA4tJQAAwAmEEgAA4ARCCQAAcAKhBAAAOIFQAgAAnEAoAQAATiCUAAAAJxBKAACAEwglAADACYQSAADgBEIJAABwAqEEAAA4gVACAACcQCgBAABOIJQAAAAnEEoAAIATCCUAAMAJhBIAAOAEQgkAAHACoQQAADiBUAIAAJxAKAEAAE4glAAAACcQSgAAgBMIJQAAwAmEEgAA4ARCCQAAcAKhBAAAOIFQAgAAnEAoAQAATiCUAAAAJxBKAACAEwglAADACYQSAADgBEIJAABwAqEEAAA4gVACAACcQCgBAABOIJQAAAAnEEoAAIATCCUAAMAJhBIAAOAEQgkAAHACoQQAADiBUAIAAJxAKAEAAE4glAAAACcQSgAAgBMIJQAAwAmEEgAA4ARCCQAAcAKhBAAAOIFQAgAAnEAoAQAATiCUAAAAJxBKAACAEwglAADACYQSAADghK6Cx15Hhzl58qS89dZb8s4778j7778vs7Oz8vHHH8unn34qX3zxhXz11VdyzjnnyHnnnScXXnihXHzxxdLb2yuXXXaZXHnllXL11VfL9ddfb58NUdXV1SV8zVeO8lsdqE/dQCjpIFNTU/LSSy9JNpuV48ePy1VXXSXXXHON+XfNmjXS19cnl1xyifnC6BdHv0D6RdIvlH6xPvroI5mZmZEzZ87I22+/LW+++ab5d/369TI8PCy33HKLDA4O2ldDVLBTrQ/lF03Up24ilDju9OnTkk6n5fDhw+YLceutt8rNN98sN910k5x//vn2Xiv3+eefyyuvvCIvv/yyvPjii+aLt2nTJkkmk7J27Vp7L3Qydqr1ofyig/rUfYQSR2mCf/LJJ+XVV1+Vu+66S+644w654YYb7K3N89prr8lzzz0nzz77rNx4441y3333mcSPzsVOtT6UX+ejPu0chBLHvPDCC/L444/LZ599Jvfff7/ce++99pbWe+qpp+SJJ56QCy64QB544AG57bbb7C3oJOxU60P5dS7q085DKHGEDrB6+OGH5YMPPpCHHnrINPe5Qps7H330Ubn00kvlkUceMQO60DnYqdaH8us81Kedi0OCHaBfnqGhIdOv+fe//92pL5DS7dHt0u3T7dTtBQAXUZ92NkJJG+nob/1Qvvfee/Luu+/Ktm3b7C1u0u3T7dTt1e3W7QcAF1CfRgOhpE3+/Oc/y7XXXit33323GQilh591At1O3V7dbt1+fR8A0E7Up9HBmJI2ePDBB81o8Kefflquu+46u7bzvP7663LPPfeY0eSPPfaYXQvXMCaiPpSf26hPo4VQ0mJ6OJqOBNfBTo04Lr7d9Lh87SPVEeXPPvusXQuXsFOtD+XnLurT6KH7poVuv/12Offcc+X555+PxBdI6fvQ96PvS98fALQC9Wk0EUpaRD9g3d3dcvDgQbsmWvR96fsjmABoNurT6KL7pgW0iVGTb1S/QGGbN2+WL7/8kq4ch9D9UB/Kzy3Up9FGS0mT6SAs7fNcDV8gpe9T36++bwBoJOrT6COUNJEe3qWjwnUQ1mqi71ffN4e3AWgU6tPVUZ/SfdMkeiIcPe785MmTHX2Y2krp4W3XX3+9vPHGG0zf3WZ0P9SH8ms/6tPVU58SSppEz9CnJ8TRWSFXK52V85lnnpFcLmfXoB3YqdaH8ms/6tPVU58SSppA5zLQUwfrmfpWO50i/PLLLzcTT6E92KnWh/JrL+rTktVQnxJKGkxnp9RUr3MadMqpjptpZmZGrrjiCpPumQ2zPZq5U50/lJCeowmZOzwq3Sf2SFdszFsbl/TMhIz2+vdprLzs2TQtW/T17BrfvGQ2HZD+wzskZtc0CqGkfahPy62G+pSBrg2mqX737t18gSwtBy0PZsKMorwcGB2UnAkIXliITXlhpCCFmYRM9O3x1jRDTHbsE9nqBYWu3f4r5Hd717u2iuxrfCBBe1GfllsN9SmhpIFeeOEF+eCDD5yfnbLVtDy0XLR8EDVTMj3r/XMiK2MjCRluSutIhd5RmSh44WdD1rRiZDd41wvNaplBu1CfVhf1+pRQ0kCPP/64PPTQQ3YJYVouWj6IkpjsyA9Ksq9LurSVZJ/twulLymC+ia0WsxlJaEvJsWHTrTJ8TFtKEpLRcITIoD6tLcr1KaGkQfQ4cj3JjU6mhLNpuWj5aDkhQtbtMMGg2FJhl3es829uvLzs8X4479fX3OnHnthOff393k/IZnUZodWoTxcW5fqUUNIgerjW/fffb5dQjZaPlhOiwgsIXdWCQK31jRCTHWcNclXdMtqEQa5oD+rTxUW1PuXomwY4ffq0xGIx+eSTT+wa1HLRRRdJPp+XtWvX2jVotsYfPaKhY0j0OJuaRtL+ETl2sZHMET+jk3YpLCW5AkffdDrq06WLYn1KS0kD6GmAdZIoLE7LabWdJjp6YrJDu08KOS8GaBDQ6xWXJgUSDUQHRr3v3ExBcuNeDMn7r6fX45kttJREAPXp0kWxPiWUNMDhw4fNSW2wOC0nLS9EgYaTdnSZDEp/r0j/mriMHfM7iWI7czI4eqBJXUZoJerTpYtifUooqZPOyfDVV1/JDTfcYNdgIVpOWl5abuhUwZgR/VePfKl2adaYkn7pHxmTvYfmpXt9QuK79pqjbuYP7V24Owkdgfp0eaJYnxJK6qSjn2+99Va7hKXQ8uIonE4WtJAE3TjVLs1qQdEBrbZVpHdU9mfEHJKsY0xSzTwMGS1Bfbp8UatPCSV1ymazcvPNN9ul9tOzWya8X5E+PfV2l+w5YRcdoeWl5QasTKnbqPvOiWIQat5hyGgVt+tTf5B1eNkFUatPCSV1On78uNx00012qf1iO+ckcXSrfyKpEwdkYuOcc5W1lpeWGyJAT5bW0u4bTzteEy3hXH26ISWTR7Pezzs1L9mjIon1zRnCvVJRq08JJXU4efKkXHXVVXL++efbNS7oltF9CZnY5iV676fk9jvd+gIpLS8tNy0/dLK87ImNFY+AKb80qyulHa+JVnCyPl03LKkj0zKt12ezMiEtmkphGaJWnxJK6qAzWF5zzTV2ySG9o7J9YFLE4UMktdy0/NDpUjLc8pa4drwmms3N+jQmw+Njkj0hMn98QmTjcJMOda9PlOpTQkkd3nnnHZNQnXNijwxJutSN4yAtNy0/dLKYbMlMyZCdrbc12vGaaAVX61Ptwhk7lnGy6yYQpfqUUFKH999/X9asWWOXXKHN2yK5naO2Gydj+0PdouWm5YdOpicymxTZNdT68R3teE3U5fPPP7fXqnOzPvVoF86upCQd7LoJRKk+JZTUYXZ2Vvr6+uySC/RomyFvX2H71vWQyY0T0uPgr0otNy0/1O/3v//9ohV+c7TjkODSGV1b95qo1z/+8Q8ZHByUX/3qVzU/q+7VpwHtwhGJO9p1o6JUnxJK6vDxxx/LJZdcYpdcoOdwKD800hwyaWdTdYmWm5Yf6jc2Nibf+ta3FqzwG2uhk6Z5l6aGYD15mn9GV3SO73znO9Lb22um2//2t79d9bPqXn0ayEt2V9zZrhsVpfqUUFKHTz/9VC688EK7hOXQctPyQ/1+97vfyTnnnCP79u2rWeE31kItJDlJ7Rpq4rkcvOC9TRhT0oEeffRR+frXvy7//e9/q35WnaxPZzOS6BqSqcx+GXU4CEepPmWW4Dqce+655gumOwQsj54aWSuoL7/80q5BPbSl5N///re5/rWvfc20WPz85z+XX//61/KNb3zDBIaW0YrcCw77mzIpn7bS1JqhuHmzBD/88MN2yW26rZX0b19tfSD4bCz3sQs9LlD5+Kefflo+/PBDu+R/VtXdd98tBw8epD5doSjVp7SU1EE/CHyBVkbLTctPKywu9V+CQKL+97//mcpdx5ps3rzZrm2h3n4ZDM7tUKbU7bPyswy3YxxLZ9IyUVreQRmpUnmVB9Vqt1c+NhDcppdgudq/gcrlaqhPVy6oT6OAlpI60FKyclFK9i646KKL5F//+pe57n5LiQ7I7pHkEbuoRtIyt6SWFQ02WRk+K4DUWl+/YMeM+vztb3+TH//4x/LFF1+c9RnVE4BRn65clOpTWkrqcN5555kvGJZPy03LD/X74x//WKzotWLatm2b/POf/5Tf/va3bTg7phcO+pKLnGTKH5CtO/riZdu09Jhf3rUO6w1aWbTrZkyGzPXwxVs/0i/99t5wz0MPPWRCR63PKPXpykWpPiWU1KGlg4vMgKtmnYdBK/xES0+0xiDhxvnlL39pfiG1LowEAaHaxQsH4zmZWO70But22ICyUEuHjhnJef/XfytCjV6aMoYFjaCHBOshqw888EDNz2jT61NTh4Y+q0seLN2A+rGp9Xe06lNCSR0uvvhi+eijj+wSlkPLTcsP9UulUqbrpnUtIwuN6/AuDh6CjvbSQ4KnpqYW/Iw2tT7VSRz7JiQROr9NToaka5ObJ5dcrijVp4SSOuhx9zMzM3aphWzq3rO7lPqLAwf1y+d90TLF24J0rv344QGGQfr3T7g2JpOS7Gtda4mWm5Yf6veLX/yiRWGknfw5SIZqdt+EP+tw0WKf0ebVp14dt08ncZwoO6xXZ1RPS1IOmDpxqfWjvd+hUqtL8fD3ytYQWxfP63P1Jb1n0M9tcz6jUapPCSV1uOyyy+TMmTN2qdXGZGrNnJ/4x72lfaHEfyQpE8XbvC/Cgs2U2r+vTeJxSc+Uf2mbSctNyw9YqthO/YW7QPcNR990tKbVpzq775Fqkzh2S/+AV3ceW379ODY6Ldv1MzeTFhldbI6xmOzw7hc3n9vmfEajVJ8SSupw5ZVXyttvv22XWq10hkGdMKpcSrbbPv3YZu/LsCvr3C9ILTctP2B5tOuI8BFF7ahP+9fE7bXliQczsOuM7OOTMnG8vZ1AUapPCSV1uPrqq+XNN9+0S622wKm2O+AoBC03LT9g+fwm9LKum4iMDVjN2lufLs9gv1tDqqNUnxJK6nD99debhNqa+UaWIXziqtlpmbRXy3jrp+zVVtPy0nLT8kOHKjuSoXIskvbHN2t8hwaSHkkO5Mq6bnIDSekhmHS0ptWnvcOSGBmT7Fkn7JuX7NFJSW2o0u62SP04NR180uZl+pS9WmF+ujU1bNTqU0JJndavXy+vvPKKXXJF6QuYPzYmMj5cbO4O+k/nj09UDystoOWl5YZO5QWDbUmRjD9uqZAflGRfaMBfU3mB+0hKchVH+MR25iRV9Syy6CTNqU91vqSUjMXKw3N+txduJS1bQmNNllo/Th7N+gHYjFcJT9YX1L1+4GmFqNWnhJI6DQ8Py8svv2yXHDGSEtnn/4odOpWWOVOBe1/MfTq+ZMis3yoJKY1E0ZlXW3f0jZaXlhs6lR8MgnFL/jlGcjI42tOCYBIchRP6rJpWGz0/Sil8ozM1rT7Vz+hMQia88Bx0+Q1JLnRum+XVj6kBe7K/vqQMBkf19I7K/kzcCz/6/FtFNobG+unUC006+iZy9an3Swd1eOONNwrf+9737JID8qmCjKQLc3bRRVpeWm5ojcZ/zecK6REppPJ2sShX8KrhQjyT9v5NeUvNM5eJm/cVXOKZ5n3iqSZbx7n69Cy1PvvtE7X6lJaSOg0ODpq5Gl577TW7BgvRctLy0nJDp/IPkxTvF2F5y4h/UrXtZ5Leb8Lm6r5zwu86spdln0EWTqI+XZ4o1qdMyNcAv/nNb+Szzz6TP/zhD3YNatEJuC644AJTZmgNbY7ma75ylF9rUZ8uXRTrU0JJA5w+fVpisZh88skndg1q0dls8/m8rF271q5Bs0Vmp6pjR/TMmOM5/1T2wbK5sXknpiKUtBb16dJFsT6l+6YB9ANx4403ylNPPWXXoBotHy0nAkkEhA4J1i6cfGjKg2ad7j1/0B7xYwZu+0cADeb97pu5zNQiZy5Gp6A+XZqo1qeEkga577775IknnrBLqEbLR8sJnS58SPCcJI72yNAuPQ23PWeIHh3T8HOG5CW7K3TET8Wpw7vv3C4pB89cjJWhPl1cVOtTQkmD3HLLLaZvL51O2zUI03LR8tFyQqcLHxLsnwMintlfnBekFecMMeeR6IAzF2NlqE8XFun61Ptlgwb561//WhgYGLBLCNNy0fJB6zX+a77IYZFNOiw9Nx4c+hscelx6Bb1NxptzEDLVZHtQn9YW5fqUlpIGuu222+TSSy+Vffv22TVQWh5aLlo+iILSIcGlqd5984cS0hUTyRVPStU42gKjJ2jrMidKy9nDgPWU9vZEWBVneUVnoz6tLur1KUffNNhbb70lQ0ND8u6770pfX59du3rNzMzIFVdcIblcjgn42oSjR+pD+bUP9Wm51VCfEkqa4OGHH5b33ntPnnvuObtm9brjjjvk8ssvl0ceecSuQauxU60P5dde1Kclq6E+JZQ0iab7u+++e1UfbfLkk0/KM888Y1I92oedan0ov/ajPl099SmhpEmmpqbk2muvlZMnT8p1111n164er7/+uplK+4033uCU8m3GTrU+lF/7UZ+unvqUga5Noh8cPbnNPffcI59//rlduzro+9X3re+fQAKgXtSnq6c+paWkyR588EEzSOv555+3a6LvJz/5iRmM9dhjj9k1aCd+6deH8nMH9Wn0EUpa4K677pJzzz1XDh48aNdE1+bNm+XLL7+UZ5991q5Bu7FTrQ/l5xbq02gjlLTI7bffLt3d3WawUlTpILT5+Xn5y1/+YtfABexU60P5uYf6NLoIJS2kX6RvfvObkUz4muj/85//EEgcxE61PpSfm6hPo4mBri2kHzBtitM+wqgM1tL3oe9H3xeBBECrUJ9GE6GkxbRvUAct/eAHPzCHeXUy3X59H/p+GEMCoNWoT6OHUNIGOor6Zz/7mTnuvFP7RHW7dfv1fXCUDYB2oT6NFsaUtJGeEOinP/2pfPe735XHH3+8I+Z20LkXHnjgAfnwww/lT3/6E+ch6QCMiagP5dcZqE+jgZaSNtIPoJ4yWOcy0CY712fD1O3T7dTt1e3mCwTAFdSn0UAocYBOrqQfyldeeUW+//3vSzqdtre4QbdHt0u3T7eTyfUAuIr6tLPRfeOYF154wTQ9fvbZZ3L//ffLvffea29pPT2t8RNPPCEXXHCBaWK87bbb7C3oJHQ/1Ify61zUp52HUOKol156yQx+evXVV80ZDHXK6htuuMHe2jyvvfaamSJcR3/feOON5gQ+t9xyi70VnYidan0ov85Hfdo5CCWOO336tGnuO3z4sHz11Vdy6623ys033yw33XSTnH/++fZeK6fHxWsz4ssvvywvvviinHPOObJp0yZJJpOydu1aey90Mnaq9aH8ooP61H2Ekg6io8s18WezWTl+/LhcddVVcs0115h/16xZY0abX3LJJXLhhRfKeeedZ74Q+sX74osv5NNPP5WPPvrIjPY+c+aMvP322/Lmm2+af9evXy/Dw8MmwTPYKnrYqdaH8osm6lM3EUo62MmTJ+Wtt96Sd955R95//32ZnZ2Vjz/+2Hxh9IujXyD9IukXSr9YF198sfT29spll10mV155pVx99dXm2HhEGzvV+lB+qwP1qRsIJUDEsVOtD+UHtA6HBAMAACcQSgAAgBMIJQAAwAmEEgAA4ARCCQAAcAKhBAAAOIFQAgAAnEAoAQAATiCUAAAAJxBKAACAEwglAADACYQSAADgBEIJAABwAqEEAAA4gVACAACcQCgBAABOIJQAAAAnEEoAAIATCCUAAMAJhBIAAOAEQgkAAHACoQQAADiBUAIAAJxAKAEAAE4glAAAACcQSgAAgBMIJQAAwAmEEgAA4ARCCQAAcAKhBAAAOIFQAgAAnEAoAQAATiCUAAAAJxBKAACAEwglAADACYQSAADgBEIJAABwAqEEAAA4gVACAACcQCgBAABOIJQAAAAnEEoAAIATCCUAAMAJhBIAAOAEQgkAAHACoQQAADiBUAIAAJxAKAEAAE4glAAAACcQSgAAgBMIJQAAwAmEEgAA4ARCCQAAcAKhBAAAOIFQAgAAnEAoAQAATiCUAAAAJxBKAACAEwglQMT98Ic/lK6uLi4rvGj5AWiNroLHXgcAAGgbWkoAAIATCCUAAMAJhBIAAOAEQgkAAHACoQQAADiBUAIAAJxAKAEAAE4glAAAACcQSgAAgBMIJQAAwAmEEgAA4ARCCQAAcAKhBAAAOIFQAgAAnEAoAQAATiCUAAAAJxBKAACAEwglAADACYQSAADgBEIJAABwAqEEAAA4gVACAACcQCgBAABOIJQAAAAnEEoAAIADRP4fhYbwjtyFIRQAAAAASUVORK5CYII=)"
      ]
    },
    {
      "cell_type": "code",
      "execution_count": null,
      "metadata": {
        "id": "EQRIxD0CW-Tf"
      },
      "outputs": [],
      "source": [
        ""
      ]
    }
  ],
  "metadata": {
    "colab": {
      "name": "Assignment_5_arch1_final.ipynb",
      "provenance": []
    },
    "kernelspec": {
      "display_name": "Python 3 (ipykernel)",
      "language": "python",
      "name": "python3"
    },
    "language_info": {
      "codemirror_mode": {
        "name": "ipython",
        "version": 3
      },
      "file_extension": ".py",
      "mimetype": "text/x-python",
      "name": "python",
      "nbconvert_exporter": "python",
      "pygments_lexer": "ipython3",
      "version": "3.9.7"
    }
  },
  "nbformat": 4,
  "nbformat_minor": 0
}