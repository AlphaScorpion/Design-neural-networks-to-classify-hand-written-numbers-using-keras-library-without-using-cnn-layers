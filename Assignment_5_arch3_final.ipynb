{
  "cells": [
    {
      "cell_type": "markdown",
      "metadata": {
        "id": "hqyU22z5dbw-"
      },
      "source": [
        "<b>Name: Aishwarya Bhavsar<b><br>\n",
        "<b>CSULB ID: 029371509<b><br>\n",
        "<b>CECS 551 - Assignment 5<b><br>\n",
        "\n",
        "<b>Design neural networks to classify hand written numbers using keras library, however,do not include convolutional layers.<b>\n",
        "\n"
      ]
    },
    {
      "cell_type": "markdown",
      "metadata": {
        "id": "6zDcLKCIeKR3"
      },
      "source": [
        "<font color='red'><b>(a) Design neural networks and implement them.<b></font> <br>\n",
        "\n",
        "• Find Assignment 5 mnist.ipynb and mnist.zip.<br>\n",
        "• train X and test X are list of intensities in 8-bit gray scale of 28 × 28 images.<br>\n",
        "• train y and test y are list of integers which are the classes of the correspond\u0002ing images.<br>\n",
        "• The objective of the networks is classifying images into 0 to 9"
      ]
    },
    {
      "cell_type": "markdown",
      "metadata": {
        "id": "Q7Lu8JBIebOF"
      },
      "source": [
        "**Import Libraries**"
      ]
    },
    {
      "cell_type": "code",
      "execution_count": 127,
      "metadata": {
        "id": "9xhT2aVqjORK"
      },
      "outputs": [],
      "source": [
        "import numpy as np # linear algebra\n",
        "import pandas as pd # data processing, CSV file I/O (e.g. pd.read_csv)\n",
        "import matplotlib.pyplot as plt # plotting library\n",
        "from keras.models import Sequential\n",
        "from keras.layers import Dense , Activation, Dropout\n",
        "from tensorflow.keras.optimizers import Adam\n",
        "from keras import  backend as K\n"
      ]
    },
    {
      "cell_type": "markdown",
      "metadata": {
        "id": "U4egdUGUem7h"
      },
      "source": [
        "**Import & Load Dataset**<br>\n",
        "<b>Count the number of Unique train & test labels.<b>"
      ]
    },
    {
      "cell_type": "code",
      "execution_count": 128,
      "metadata": {
        "colab": {
          "base_uri": "https://localhost:8080/"
        },
        "id": "v8eCnezAj5Ej",
        "outputId": "4b735e0c-9151-4475-f50b-ae6a4ff27ead"
      },
      "outputs": [
        {
          "output_type": "stream",
          "name": "stdout",
          "text": [
            "Train labels:  {0: 5923, 1: 6742, 2: 5958, 3: 6131, 4: 5842, 5: 5421, 6: 5918, 7: 6265, 8: 5851, 9: 5949}\n",
            "\n",
            "Test labels:  {0: 980, 1: 1135, 2: 1032, 3: 1010, 4: 982, 5: 892, 6: 958, 7: 1028, 8: 974, 9: 1009}\n"
          ]
        }
      ],
      "source": [
        "# import dataset\n",
        "from keras.datasets import mnist\n",
        "\n",
        "\n",
        "# load dataset\n",
        "(x_train, y_train),(x_test, y_test) = mnist.load_data()\n",
        "\n",
        "\n",
        "\n",
        "# count the number of unique train labels\n",
        "unique, counts = np.unique(y_train, return_counts=True)\n",
        "print(\"Train labels: \", dict(zip(unique, counts)))\n",
        "\n",
        "\n",
        "\n",
        "# count the number of unique test labels\n",
        "unique, counts = np.unique(y_test, return_counts=True)\n",
        "print(\"\\nTest labels: \", dict(zip(unique, counts)))\n"
      ]
    },
    {
      "cell_type": "code",
      "source": [
        "import matplotlib.pyplot as plt\n",
        "import numpy as np\n",
        "\n",
        "id = 7\n",
        "\n",
        "image = np.array(x_train[id], dtype='float')\n",
        "pixels = image.reshape((28, 28))\n",
        "plt.imshow(pixels, cmap='gray')\n",
        "plt.show()\n",
        "\n",
        "# print(X_train[id])\n",
        "print(y_train[id])"
      ],
      "metadata": {
        "colab": {
          "base_uri": "https://localhost:8080/",
          "height": 282
        },
        "id": "Tk-x5KZpYIE_",
        "outputId": "bb1aaebb-ccfa-4a9f-ae93-40e75964295e"
      },
      "execution_count": 129,
      "outputs": [
        {
          "output_type": "display_data",
          "data": {
            "text/plain": [
              "<Figure size 432x288 with 1 Axes>"
            ],
            "image/png": "[encoded data removed]"
          },
          "metadata": {
            "needs_background": "light"
          }
        },
        {
          "output_type": "stream",
          "name": "stdout",
          "text": [
            "3\n"
          ]
        }
      ]
    },
    {
      "cell_type": "markdown",
      "metadata": {
        "id": "CHfkmQ2jfB3b"
      },
      "source": [
        "**Import keras libraries and packages**"
      ]
    },
    {
      "cell_type": "code",
      "execution_count": 132,
      "metadata": {
        "id": "-z7yNzFsj5Hg"
      },
      "outputs": [],
      "source": [
        "from keras.models import Sequential\n",
        "from keras.layers import Dense, Activation, Dropout\n",
        "from tensorflow.keras.utils import to_categorical, plot_model"
      ]
    },
    {
      "cell_type": "markdown",
      "metadata": {
        "id": "Z8AsGJ12fWPQ"
      },
      "source": [
        "**Compute the number of labels**"
      ]
    },
    {
      "cell_type": "code",
      "execution_count": 133,
      "metadata": {
        "id": "_vKIbdL5j5K5"
      },
      "outputs": [],
      "source": [
        "# compute the number of labels\n",
        "num_labels = len(np.unique(y_train))"
      ]
    },
    {
      "cell_type": "markdown",
      "metadata": {
        "id": "dsSz_fcUfcxI"
      },
      "source": [
        "<b>One Hot Encoding <br> <br>One Hot Encoding is a common way of preprocessing categorical features for machine learning models.<br> This type of encoding creates a new binary feature for each possible category and assigns a value of 1 to the feature of each sample that corresponds to its original category. <b>"
      ]
    },
    {
      "cell_type": "code",
      "execution_count": 134,
      "metadata": {
        "id": "E4l1A5Ugj5QS"
      },
      "outputs": [],
      "source": [
        "# convert to one-hot vector\n",
        "y_train = to_categorical(y_train)\n",
        "y_test = to_categorical(y_test)"
      ]
    },
    {
      "cell_type": "code",
      "execution_count": 135,
      "metadata": {
        "colab": {
          "base_uri": "https://localhost:8080/"
        },
        "id": "_ebKf39xkd6z",
        "outputId": "8e99684c-af65-400e-a145-0b282fe9153d"
      },
      "outputs": [
        {
          "output_type": "execute_result",
          "data": {
            "text/plain": [
              "784"
            ]
          },
          "metadata": {},
          "execution_count": 135
        }
      ],
      "source": [
        "# image dimensions (assumed square)\n",
        "image_size = x_train.shape[1]\n",
        "input_size = image_size * image_size\n",
        "input_size"
      ]
    },
    {
      "cell_type": "markdown",
      "metadata": {
        "id": "lCqmUUImjHCs"
      },
      "source": [
        "<b>Resize & Normalize<b><br>\n",
        "We know that the pixel values for each image in the dataset are unsigned integers in the range between black and white, or 0 and 255.<br>\n",
        "\n",
        "We do not know the best way to scale the pixel values for modeling, but we know that some scaling will be required.<br>\n",
        "\n",
        "A good starting point is to normalize the pixel values of grayscale images, e.g. rescale them to the range [0,1]. This involves first converting the data type from unsigned integers to floats, then dividing the pixel values by the maximum value.\n",
        "\n"
      ]
    },
    {
      "cell_type": "code",
      "execution_count": 136,
      "metadata": {
        "id": "y4eDZ0Pwkd9i"
      },
      "outputs": [],
      "source": [
        "# resize and normalize\n",
        "x_train = np.reshape(x_train, [-1, input_size])\n",
        "x_train = x_train.astype('float32') / 255\n",
        "x_test = np.reshape(x_test, [-1, input_size])\n",
        "x_test = x_test.astype('float32') / 255"
      ]
    },
    {
      "cell_type": "markdown",
      "metadata": {
        "id": "LNrdAdmymYyq"
      },
      "source": [
        "<font color='red'><b>(b) Split the training dataset into sub training and validation sets randomly.<b></font> <br><br> Use 1/6 of training dataset as validation set. Use the ‘accuracy’ as metric. Please repeat 10 times of random split for each hyper-parameters and architecture, and aggregate (average) the accuracy.<b>"
      ]
    },
    {
      "cell_type": "markdown",
      "metadata": {
        "id": "-Lu8QeaZkpSy"
      },
      "source": [
        "<b>Splitting of dataset : Validation set = 1/6th of training data<b>"
      ]
    },
    {
      "cell_type": "code",
      "execution_count": 138,
      "metadata": {
        "id": "X-b_cQotv0sR"
      },
      "outputs": [],
      "source": [
        "from sklearn.model_selection import train_test_split\n",
        "x_subtrain, x_valid, y_subtrain, y_valid = train_test_split(x_train, y_train, test_size=0.16,random_state=42)"
      ]
    },
    {
      "cell_type": "markdown",
      "metadata": {
        "id": "fKnn1SyxmTak"
      },
      "source": [
        "\n",
        "<font color='red'><b>(c) Optimizer evaluation<b></font> <br><br>\n",
        "• Implement a neural network which has single hidden layer with 32 units. Us\u0002ing the network, find best hyper-parameters of the following optimizers; SGD,RMSprop, Adam, Adagrad.<br>\n",
        "• Train the network with the training dataset (not sub training) with the best\n",
        "hyper-parameters of each optimizer.<br>\n",
        "• For each optimizer, report test accuracy using the test dataset.<b>"
      ]
    },
    {
      "cell_type": "markdown",
      "metadata": {
        "id": "Sqx1ZRTwla8p"
      },
      "source": [
        "<b> 1. Train Model using <font color = 'blue'>ADAM optimiser.<b> "
      ]
    },
    {
      "cell_type": "code",
      "execution_count": 139,
      "metadata": {
        "id": "wJL7mvxcbWnD"
      },
      "outputs": [],
      "source": [
        "from keras.layers import Dense\n",
        "from tensorflow.keras.optimizers import Adam\n",
        "import tensorflow as tf\n",
        "tf.keras.optimizers.Adam(learning_rate=0.01, beta_1=0.9, beta_2=0.999, epsilon=1e-07, amsgrad=False, name=\"Adam\")\n",
        "def create_model():\n",
        "  model = Sequential()\n",
        "  model.add(Dense(32, input_dim = num_pixels, activation = 'relu'))\n",
        "  model.compile(Adam(lr=0.01), loss='binary_crossentropy',metrics=['accuracy'])\n",
        "  return model"
      ]
    },
    {
      "cell_type": "markdown",
      "metadata": {
        "id": "SimXRvH3ln1j"
      },
      "source": [
        "<b>Compile the model using ADAM Optimiser<b>"
      ]
    },
    {
      "cell_type": "code",
      "execution_count": 140,
      "metadata": {
        "id": "uQb0cic3mC-B"
      },
      "outputs": [],
      "source": [
        "batch_size = 640\n",
        "hidden_units = 32\n",
        "dropout = 0.2\n",
        "# model is a 1-layer MLP with ReLU and dropout after each layer\n",
        "model = Sequential()\n",
        "model.add(Dense(hidden_units, input_dim=input_size))\n",
        "model.add(Activation('relu'))\n",
        "model.add(Dropout(dropout))\n",
        "model.add(Dense(num_labels))\n",
        "model.add(Activation('softmax'))\n",
        "model.compile(optimizer='adam', loss='categorical_crossentropy', metrics=['accuracy'])\n"
      ]
    },
    {
      "cell_type": "code",
      "source": [
        "model.summary()"
      ],
      "metadata": {
        "colab": {
          "base_uri": "https://localhost:8080/"
        },
        "id": "XmtGMClXbnP9",
        "outputId": "4fe3b32d-2300-40ec-974b-e131eae81ba9"
      },
      "execution_count": 141,
      "outputs": [
        {
          "output_type": "stream",
          "name": "stdout",
          "text": [
            "Model: \"sequential_22\"\n",
            "_________________________________________________________________\n",
            " Layer (type)                Output Shape              Param #   \n",
            "=================================================================\n",
            " dense_44 (Dense)            (None, 32)                25120     \n",
            "                                                                 \n",
            " activation_45 (Activation)  (None, 32)                0         \n",
            "                                                                 \n",
            " dropout_23 (Dropout)        (None, 32)                0         \n",
            "                                                                 \n",
            " dense_45 (Dense)            (None, 10)                330       \n",
            "                                                                 \n",
            " activation_46 (Activation)  (None, 10)                0         \n",
            "                                                                 \n",
            "=================================================================\n",
            "Total params: 25,450\n",
            "Trainable params: 25,450\n",
            "Non-trainable params: 0\n",
            "_________________________________________________________________\n"
          ]
        }
      ]
    },
    {
      "cell_type": "code",
      "source": [
        "plot_model(model, to_file='mlp-mnist.png', show_shapes=True)"
      ],
      "metadata": {
        "colab": {
          "base_uri": "https://localhost:8080/",
          "height": 644
        },
        "id": "LtVeXbuxcJqZ",
        "outputId": "ba40e223-173b-4ece-b2dd-53b31a8da7df"
      },
      "execution_count": 142,
      "outputs": [
        {
          "output_type": "execute_result",
          "data": {
            "text/plain": [
              "<IPython.core.display.Image object>"
            ],
            "image/png": "[encoded data removed]"
          },
          "metadata": {},
          "execution_count": 142
        }
      ]
    },
    {
      "cell_type": "code",
      "execution_count": 143,
      "metadata": {
        "colab": {
          "base_uri": "https://localhost:8080/"
        },
        "id": "-UfVw-2VmDTk",
        "outputId": "53c2f2ef-99bb-4301-e0a3-4ba5b5b5b0bd"
      },
      "outputs": [
        {
          "output_type": "stream",
          "name": "stdout",
          "text": [
            "Epoch 1/10\n",
            "94/94 [==============================] - 1s 6ms/step - loss: 1.1244 - accuracy: 0.6613\n",
            "Epoch 2/10\n",
            "94/94 [==============================] - 1s 6ms/step - loss: 0.5043 - accuracy: 0.8557\n",
            "Epoch 3/10\n",
            "94/94 [==============================] - 1s 8ms/step - loss: 0.4067 - accuracy: 0.8821\n",
            "Epoch 4/10\n",
            "94/94 [==============================] - 1s 7ms/step - loss: 0.3611 - accuracy: 0.8946\n",
            "Epoch 5/10\n",
            "94/94 [==============================] - 1s 6ms/step - loss: 0.3259 - accuracy: 0.9057\n",
            "Epoch 6/10\n",
            "94/94 [==============================] - 1s 5ms/step - loss: 0.3060 - accuracy: 0.9116\n",
            "Epoch 7/10\n",
            "94/94 [==============================] - 1s 6ms/step - loss: 0.2876 - accuracy: 0.9165\n",
            "Epoch 8/10\n",
            "94/94 [==============================] - 1s 6ms/step - loss: 0.2757 - accuracy: 0.9195\n",
            "Epoch 9/10\n",
            "94/94 [==============================] - 1s 5ms/step - loss: 0.2653 - accuracy: 0.9227\n",
            "Epoch 10/10\n",
            "94/94 [==============================] - 1s 6ms/step - loss: 0.2543 - accuracy: 0.9257\n"
          ]
        },
        {
          "output_type": "execute_result",
          "data": {
            "text/plain": [
              "<keras.callbacks.History at 0x7f45d502f210>"
            ]
          },
          "metadata": {},
          "execution_count": 143
        }
      ],
      "source": [
        "model.fit(x_train, y_train, epochs=10, batch_size=batch_size)"
      ]
    },
    {
      "cell_type": "markdown",
      "metadata": {
        "id": "nNTt1SwOl6So"
      },
      "source": [
        "<b>Model Evaluation - Training Set<b>"
      ]
    },
    {
      "cell_type": "code",
      "execution_count": 144,
      "metadata": {
        "colab": {
          "base_uri": "https://localhost:8080/"
        },
        "id": "0WGuMCnWmDbk",
        "outputId": "e1ac56f0-81d5-4593-952d-e84d659c0171"
      },
      "outputs": [
        {
          "output_type": "stream",
          "name": "stdout",
          "text": [
            "1875/1875 [==============================] - 3s 1ms/step - loss: 0.1763 - accuracy: 0.9488\n",
            "Accuracy: 94.88\n"
          ]
        }
      ],
      "source": [
        "#By changing the batch size from 256 to 640 and reducing the dropout rate from 0.4 to 0.2 we are able to gain an accuracy of 94.88%\n",
        "_, accuracy = model.evaluate(x_train, y_train)\n",
        "print('Accuracy: %.2f' % (accuracy*100))"
      ]
    },
    {
      "cell_type": "markdown",
      "metadata": {
        "id": "DZQL-CfjmB8o"
      },
      "source": [
        "<b>Model Evaluation - Testing Set<b>"
      ]
    },
    {
      "cell_type": "code",
      "execution_count": 145,
      "metadata": {
        "colab": {
          "base_uri": "https://localhost:8080/"
        },
        "id": "wLVNymLlmIz6",
        "outputId": "2f50ff2a-612b-46c9-ce54-88fa7cc0981a"
      },
      "outputs": [
        {
          "output_type": "stream",
          "name": "stdout",
          "text": [
            "313/313 [==============================] - 1s 2ms/step - loss: 0.1801 - accuracy: 0.9453\n",
            "Accuracy: 94.53\n"
          ]
        }
      ],
      "source": [
        "_, accuracy = model.evaluate(x_test, y_test)\n",
        "print('Accuracy: %.2f' % (accuracy*100))"
      ]
    },
    {
      "cell_type": "markdown",
      "metadata": {
        "id": "xiatGJ_Zonz3"
      },
      "source": [
        "<b> 2. Train Model using <font color = 'blue'>ADAGRAD optimiser.<b>"
      ]
    },
    {
      "cell_type": "code",
      "execution_count": 146,
      "metadata": {
        "id": "DNLb8mu8owlO"
      },
      "outputs": [],
      "source": [
        "from keras.layers import Dense\n",
        "from tensorflow.keras.optimizers import Adagrad\n",
        "\n",
        "tf.keras.optimizers.Adagrad(learning_rate=0.001,initial_accumulator_value=0.1, epsilon=1e-07, name=\"Adagrad\")\n",
        "def create_model():\n",
        "  model = Sequential()\n",
        "  model.add(Dense(32, activation='relu'))\n",
        "  model.compile(loss='categorical_crossentropy', optimizer='Adagrad', metrics=['accuracy'])\n",
        "  return model"
      ]
    },
    {
      "cell_type": "code",
      "execution_count": 147,
      "metadata": {
        "colab": {
          "base_uri": "https://localhost:8080/"
        },
        "id": "iZjF-LBUowwL",
        "outputId": "29fbd16a-76b4-490a-d4ce-cd11ec53d2c6"
      },
      "outputs": [
        {
          "output_type": "stream",
          "name": "stdout",
          "text": [
            "Model: \"sequential_22\"\n",
            "_________________________________________________________________\n",
            " Layer (type)                Output Shape              Param #   \n",
            "=================================================================\n",
            " dense_44 (Dense)            (None, 32)                25120     \n",
            "                                                                 \n",
            " activation_45 (Activation)  (None, 32)                0         \n",
            "                                                                 \n",
            " dropout_23 (Dropout)        (None, 32)                0         \n",
            "                                                                 \n",
            " dense_45 (Dense)            (None, 10)                330       \n",
            "                                                                 \n",
            " activation_46 (Activation)  (None, 10)                0         \n",
            "                                                                 \n",
            "=================================================================\n",
            "Total params: 25,450\n",
            "Trainable params: 25,450\n",
            "Non-trainable params: 0\n",
            "_________________________________________________________________\n"
          ]
        }
      ],
      "source": [
        "model.summary()"
      ]
    },
    {
      "cell_type": "code",
      "execution_count": 148,
      "metadata": {
        "colab": {
          "base_uri": "https://localhost:8080/",
          "height": 644
        },
        "id": "j3FIp_MzowzD",
        "outputId": "210d85b7-11e0-4e83-e35e-0e501ff4f188"
      },
      "outputs": [
        {
          "output_type": "execute_result",
          "data": {
            "text/plain": [
              "<IPython.core.display.Image object>"
            ],
            "image/png": "[encoded data removed]"
          },
          "metadata": {},
          "execution_count": 148
        }
      ],
      "source": [
        "plot_model(model, to_file='mlp-mnist.png', show_shapes=True)"
      ]
    },
    {
      "cell_type": "markdown",
      "metadata": {
        "id": "2LlDkcjiwroR"
      },
      "source": [
        "<b>Compile the model using ADAGRAD Optimiser<b>"
      ]
    },
    {
      "cell_type": "code",
      "execution_count": 154,
      "metadata": {
        "id": "5nmWdPGxow2U"
      },
      "outputs": [],
      "source": [
        "batch_size = 640\n",
        "hidden_units = 32\n",
        "dropout = 0.3\n",
        "# model is a 1-layer MLP with ReLU and dropout after each layer\n",
        "model = Sequential()\n",
        "model.add(Dense(hidden_units, input_dim=input_size))\n",
        "model.add(Activation('tanh'))\n",
        "model.add(Dropout(dropout))\n",
        "model.add(Dense(num_labels))\n",
        "model.add(Activation('sigmoid'))\n",
        "model.compile(optimizer='adagrad', loss='categorical_crossentropy', metrics=['accuracy'])\n"
      ]
    },
    {
      "cell_type": "code",
      "execution_count": 155,
      "metadata": {
        "colab": {
          "base_uri": "https://localhost:8080/"
        },
        "id": "zd36yb2gow5Q",
        "outputId": "7f08166f-f0da-47c2-c794-a90eb9010804"
      },
      "outputs": [
        {
          "output_type": "stream",
          "name": "stdout",
          "text": [
            "Epoch 1/10\n",
            "94/94 [==============================] - 1s 5ms/step - loss: 2.3148 - accuracy: 0.1412\n",
            "Epoch 2/10\n",
            "94/94 [==============================] - 1s 7ms/step - loss: 2.0416 - accuracy: 0.2826\n",
            "Epoch 3/10\n",
            "94/94 [==============================] - 1s 8ms/step - loss: 1.8430 - accuracy: 0.4288\n",
            "Epoch 4/10\n",
            "94/94 [==============================] - 1s 7ms/step - loss: 1.6910 - accuracy: 0.5229\n",
            "Epoch 5/10\n",
            "94/94 [==============================] - 1s 8ms/step - loss: 1.5721 - accuracy: 0.5839\n",
            "Epoch 6/10\n",
            "94/94 [==============================] - 1s 7ms/step - loss: 1.4762 - accuracy: 0.6234\n",
            "Epoch 7/10\n",
            "94/94 [==============================] - 1s 5ms/step - loss: 1.3988 - accuracy: 0.6504\n",
            "Epoch 8/10\n",
            "94/94 [==============================] - 1s 6ms/step - loss: 1.3325 - accuracy: 0.6702\n",
            "Epoch 9/10\n",
            "94/94 [==============================] - 1s 7ms/step - loss: 1.2786 - accuracy: 0.6871\n",
            "Epoch 10/10\n",
            "94/94 [==============================] - 1s 8ms/step - loss: 1.2293 - accuracy: 0.7019\n"
          ]
        },
        {
          "output_type": "execute_result",
          "data": {
            "text/plain": [
              "<keras.callbacks.History at 0x7f45cec78350>"
            ]
          },
          "metadata": {},
          "execution_count": 155
        }
      ],
      "source": [
        "model.fit(x_train, y_train, epochs=10, batch_size=batch_size)"
      ]
    },
    {
      "cell_type": "markdown",
      "metadata": {
        "id": "SbwPYAfow_Ix"
      },
      "source": [
        "<b>Model Evaluation - Training Set<b>"
      ]
    },
    {
      "cell_type": "code",
      "execution_count": 156,
      "metadata": {
        "colab": {
          "base_uri": "https://localhost:8080/"
        },
        "id": "Dzljy7o3ow8s",
        "outputId": "e77c18be-0cd2-457d-e8c0-011f81bab241"
      },
      "outputs": [
        {
          "output_type": "stream",
          "name": "stdout",
          "text": [
            "1875/1875 [==============================] - 3s 1ms/step - loss: 1.1553 - accuracy: 0.7583\n",
            "Accuracy: 75.83\n"
          ]
        }
      ],
      "source": [
        "\n",
        "#We can increase the accuracy using tanh and sigmoid activation functions.\n",
        "#Similarly, by decreasing the dropout rate from 0.45 to 0.3 and increasing the batch size from 256 to 640, accuracy of 75.83% is achieved.\n",
        "_, accuracy = model.evaluate(x_train, y_train)\n",
        "print('Accuracy: %.2f' % (accuracy*100))"
      ]
    },
    {
      "cell_type": "markdown",
      "metadata": {
        "id": "ffnl23Q2xGRx"
      },
      "source": [
        "<b>Model Evaluation - Testing Set<b>"
      ]
    },
    {
      "cell_type": "code",
      "execution_count": 157,
      "metadata": {
        "colab": {
          "base_uri": "https://localhost:8080/"
        },
        "id": "Zj2qTST0xNH-",
        "outputId": "35f60557-6d2a-48cb-895b-56701d34474a"
      },
      "outputs": [
        {
          "output_type": "stream",
          "name": "stdout",
          "text": [
            "313/313 [==============================] - 1s 2ms/step - loss: 1.1351 - accuracy: 0.7632\n",
            "Accuracy: 76.32\n"
          ]
        }
      ],
      "source": [
        "_, accuracy = model.evaluate(x_test, y_test)\n",
        "print('Accuracy: %.2f' % (accuracy*100))"
      ]
    },
    {
      "cell_type": "markdown",
      "metadata": {
        "id": "nAG-701Y0D79"
      },
      "source": [
        "<b> 3. Train Model using <font color = 'blue'>SGD optimiser.<b>"
      ]
    },
    {
      "cell_type": "code",
      "execution_count": 85,
      "metadata": {
        "id": "LVjX8NBp0vrw"
      },
      "outputs": [],
      "source": [
        "from keras.layers import Dense\n",
        "from tensorflow.keras.optimizers import SGD\n",
        "tf.keras.optimizers.SGD(learning_rate=0.01, momentum=0.0, nesterov=False, name=\"SGD\")\n",
        "def create_model():\n",
        "  model3 = Sequential()\n",
        "  model3.add(Dense(32, activation='softmax'))\n",
        "  model3.compile(loss='categorical_crossentropy', optimizer='SGD', metrics=['accuracy'])\n",
        "  return model"
      ]
    },
    {
      "cell_type": "code",
      "execution_count": 86,
      "metadata": {
        "colab": {
          "base_uri": "https://localhost:8080/"
        },
        "id": "5UJmWDJw0v55",
        "outputId": "95c1c573-5fa6-4b02-dcb1-699bec74796f"
      },
      "outputs": [
        {
          "output_type": "stream",
          "name": "stdout",
          "text": [
            "Model: \"sequential_9\"\n",
            "_________________________________________________________________\n",
            " Layer (type)                Output Shape              Param #   \n",
            "=================================================================\n",
            " dense_18 (Dense)            (None, 32)                25120     \n",
            "                                                                 \n",
            " activation_19 (Activation)  (None, 32)                0         \n",
            "                                                                 \n",
            " dropout_10 (Dropout)        (None, 32)                0         \n",
            "                                                                 \n",
            " dense_19 (Dense)            (None, 10)                330       \n",
            "                                                                 \n",
            " activation_20 (Activation)  (None, 10)                0         \n",
            "                                                                 \n",
            "=================================================================\n",
            "Total params: 25,450\n",
            "Trainable params: 25,450\n",
            "Non-trainable params: 0\n",
            "_________________________________________________________________\n"
          ]
        }
      ],
      "source": [
        "model.summary()"
      ]
    },
    {
      "cell_type": "code",
      "execution_count": 87,
      "metadata": {
        "colab": {
          "base_uri": "https://localhost:8080/",
          "height": 644
        },
        "id": "X9vW6he30v9T",
        "outputId": "01db3991-2622-4a1d-da1e-fbf5a71726e6"
      },
      "outputs": [
        {
          "output_type": "execute_result",
          "data": {
            "text/plain": [
              "<IPython.core.display.Image object>"
            ],
            "image/png": "[encoded data removed]"
          },
          "metadata": {},
          "execution_count": 87
        }
      ],
      "source": [
        "plot_model(model, to_file='mlp-mnist.png', show_shapes=True)"
      ]
    },
    {
      "cell_type": "markdown",
      "metadata": {
        "id": "a-vrG_kM1RWu"
      },
      "source": [
        "<b>Compile the model using SGD Optimiser<b>"
      ]
    },
    {
      "cell_type": "code",
      "execution_count": 174,
      "metadata": {
        "id": "WEAiPvhu0wFE"
      },
      "outputs": [],
      "source": [
        "batch_size = 16\n",
        "hidden_units = 32\n",
        "dropout = 0.45\n",
        "# model is a 1-layer MLP with ReLU and dropout after each layer\n",
        "model = Sequential()\n",
        "model.add(Dense(hidden_units, input_dim=input_size))\n",
        "model.add(Activation('tanh'))\n",
        "model.add(Dropout(dropout))\n",
        "model.add(Dense(num_labels))\n",
        "model.add(Activation('softmax'))\n",
        "model.compile(optimizer='SGD', loss='categorical_crossentropy', metrics=['accuracy'])"
      ]
    },
    {
      "cell_type": "code",
      "execution_count": 175,
      "metadata": {
        "colab": {
          "base_uri": "https://localhost:8080/"
        },
        "id": "5Nn8BG211L3m",
        "outputId": "dd91d8a4-021f-4305-c115-11bbbbd1802b"
      },
      "outputs": [
        {
          "output_type": "stream",
          "name": "stdout",
          "text": [
            "Epoch 1/10\n",
            "3750/3750 [==============================] - 7s 2ms/step - loss: 0.6917 - accuracy: 0.8041\n",
            "Epoch 2/10\n",
            "3750/3750 [==============================] - 6s 2ms/step - loss: 0.4540 - accuracy: 0.8695\n",
            "Epoch 3/10\n",
            "3750/3750 [==============================] - 6s 2ms/step - loss: 0.4166 - accuracy: 0.8783\n",
            "Epoch 4/10\n",
            "3750/3750 [==============================] - 6s 2ms/step - loss: 0.3966 - accuracy: 0.8848\n",
            "Epoch 5/10\n",
            "3750/3750 [==============================] - 6s 2ms/step - loss: 0.3806 - accuracy: 0.8902\n",
            "Epoch 6/10\n",
            "3750/3750 [==============================] - 6s 2ms/step - loss: 0.3703 - accuracy: 0.8928\n",
            "Epoch 7/10\n",
            "3750/3750 [==============================] - 6s 2ms/step - loss: 0.3640 - accuracy: 0.8939\n",
            "Epoch 8/10\n",
            "3750/3750 [==============================] - 6s 2ms/step - loss: 0.3553 - accuracy: 0.8973\n",
            "Epoch 9/10\n",
            "3750/3750 [==============================] - 6s 2ms/step - loss: 0.3515 - accuracy: 0.8987\n",
            "Epoch 10/10\n",
            "3750/3750 [==============================] - 7s 2ms/step - loss: 0.3467 - accuracy: 0.9005\n"
          ]
        },
        {
          "output_type": "execute_result",
          "data": {
            "text/plain": [
              "<keras.callbacks.History at 0x7f45d4fe60d0>"
            ]
          },
          "metadata": {},
          "execution_count": 175
        }
      ],
      "source": [
        "model.fit(x_train, y_train, epochs=10, batch_size=batch_size)"
      ]
    },
    {
      "cell_type": "markdown",
      "metadata": {
        "id": "DAXCNkRM1uEM"
      },
      "source": [
        "<b>Model Evaluation - Training Set<b>"
      ]
    },
    {
      "cell_type": "code",
      "execution_count": 176,
      "metadata": {
        "colab": {
          "base_uri": "https://localhost:8080/"
        },
        "id": "pXJKp05l1L7H",
        "outputId": "eab593ee-65dc-4afb-8c44-3ee5978df533"
      },
      "outputs": [
        {
          "output_type": "stream",
          "name": "stdout",
          "text": [
            "1875/1875 [==============================] - 4s 2ms/step - loss: 0.2381 - accuracy: 0.9292\n",
            "Accuracy: 92.92\n"
          ]
        }
      ],
      "source": [
        "#Batch size changed from 412 to 16.\n",
        "#tanh and softmax activation function used for the layer.\n",
        "_, accuracy = model.evaluate(x_train, y_train)\n",
        "print('Accuracy: %.2f' % (accuracy*100))"
      ]
    },
    {
      "cell_type": "markdown",
      "metadata": {
        "id": "OgQnYEcH1_Al"
      },
      "source": [
        "<b>Model Evaluation - Testing Set<b>"
      ]
    },
    {
      "cell_type": "code",
      "execution_count": 177,
      "metadata": {
        "colab": {
          "base_uri": "https://localhost:8080/"
        },
        "id": "j7NF7jMs2AoC",
        "outputId": "9355bafa-24b5-4434-892d-75cd88a4b292"
      },
      "outputs": [
        {
          "output_type": "stream",
          "name": "stdout",
          "text": [
            "313/313 [==============================] - 1s 2ms/step - loss: 0.2451 - accuracy: 0.9292\n",
            "Accuracy: 92.92\n"
          ]
        }
      ],
      "source": [
        "_, accuracy = model.evaluate(x_test, y_test)\n",
        "print('Accuracy: %.2f' % (accuracy*100))"
      ]
    },
    {
      "cell_type": "markdown",
      "metadata": {
        "id": "pxzhAYAM60gA"
      },
      "source": [
        "<b> 4. Train Model using <font color = 'blue'>RMSprop optimiser.<b>"
      ]
    },
    {
      "cell_type": "code",
      "execution_count": 178,
      "metadata": {
        "id": "XHphS4nQ-wlY"
      },
      "outputs": [],
      "source": [
        "from keras.layers import Dense\n",
        "from tensorflow.keras.optimizers import RMSprop\n",
        "tf.keras.optimizers.RMSprop(learning_rate=0.005, rho=0.2, momentum=0.9, epsilon=1e-07, centered=False, name=\"RMSprop\")\n",
        "def create_model():\n",
        "  model = Sequential()\n",
        "  model.add(Dense(32, activation='relu'))\n",
        "  model.compile(loss='categorical_crossentropy', optimizer='RMSprop', metrics=['accuracy'])\n",
        "  return model"
      ]
    },
    {
      "cell_type": "code",
      "execution_count": 179,
      "metadata": {
        "colab": {
          "base_uri": "https://localhost:8080/"
        },
        "id": "4ah00duB-wyT",
        "outputId": "390f220b-9ec0-4a00-a46e-2130d8f1a2f9"
      },
      "outputs": [
        {
          "output_type": "stream",
          "name": "stdout",
          "text": [
            "Model: \"sequential_32\"\n",
            "_________________________________________________________________\n",
            " Layer (type)                Output Shape              Param #   \n",
            "=================================================================\n",
            " dense_64 (Dense)            (None, 32)                25120     \n",
            "                                                                 \n",
            " activation_65 (Activation)  (None, 32)                0         \n",
            "                                                                 \n",
            " dropout_33 (Dropout)        (None, 32)                0         \n",
            "                                                                 \n",
            " dense_65 (Dense)            (None, 10)                330       \n",
            "                                                                 \n",
            " activation_66 (Activation)  (None, 10)                0         \n",
            "                                                                 \n",
            "=================================================================\n",
            "Total params: 25,450\n",
            "Trainable params: 25,450\n",
            "Non-trainable params: 0\n",
            "_________________________________________________________________\n"
          ]
        }
      ],
      "source": [
        "model.summary()"
      ]
    },
    {
      "cell_type": "code",
      "execution_count": 180,
      "metadata": {
        "colab": {
          "base_uri": "https://localhost:8080/",
          "height": 644
        },
        "id": "Kz9moc9p-w3M",
        "outputId": "84322e43-d1ce-457b-cd06-c1485b284e41"
      },
      "outputs": [
        {
          "output_type": "execute_result",
          "data": {
            "text/plain": [
              "<IPython.core.display.Image object>"
            ],
            "image/png": "[encoded data removed]"
          },
          "metadata": {},
          "execution_count": 180
        }
      ],
      "source": [
        "plot_model(model, to_file='mlp-mnist.png', show_shapes=True)"
      ]
    },
    {
      "cell_type": "markdown",
      "metadata": {
        "id": "_yGwJkNN_kQ5"
      },
      "source": [
        "<b>Compile the model using RMSprop Optimiser<b>"
      ]
    },
    {
      "cell_type": "code",
      "execution_count": 189,
      "metadata": {
        "id": "x8EijkY2-w8j"
      },
      "outputs": [],
      "source": [
        "batch_size = 32\n",
        "hidden_units = 32\n",
        "dropout = 0.3\n",
        "# model is a 1-layer MLP with ReLU and dropout after each layer\n",
        "model = Sequential()\n",
        "model.add(Dense(hidden_units, input_dim=input_size))\n",
        "model.add(Activation('sigmoid'))\n",
        "model.add(Dropout(dropout))\n",
        "model.add(Dense(num_labels))\n",
        "model.add(Activation('sigmoid'))\n",
        "model.compile(optimizer='RMSprop', loss='categorical_crossentropy', metrics=['accuracy'])"
      ]
    },
    {
      "cell_type": "code",
      "execution_count": 190,
      "metadata": {
        "colab": {
          "base_uri": "https://localhost:8080/"
        },
        "id": "dSVkLb97-xAO",
        "outputId": "d0f65d32-a79d-438f-ffd8-80cf9b3da019"
      },
      "outputs": [
        {
          "output_type": "stream",
          "name": "stdout",
          "text": [
            "Epoch 1/10\n",
            "1875/1875 [==============================] - 5s 2ms/step - loss: 0.7118 - accuracy: 0.8019\n",
            "Epoch 2/10\n",
            "1875/1875 [==============================] - 4s 2ms/step - loss: 0.4082 - accuracy: 0.8813\n",
            "Epoch 3/10\n",
            "1875/1875 [==============================] - 4s 2ms/step - loss: 0.3622 - accuracy: 0.8946\n",
            "Epoch 4/10\n",
            "1875/1875 [==============================] - 4s 2ms/step - loss: 0.3396 - accuracy: 0.9020\n",
            "Epoch 5/10\n",
            "1875/1875 [==============================] - 4s 2ms/step - loss: 0.3236 - accuracy: 0.9052\n",
            "Epoch 6/10\n",
            "1875/1875 [==============================] - 4s 2ms/step - loss: 0.3134 - accuracy: 0.9087\n",
            "Epoch 7/10\n",
            "1875/1875 [==============================] - 4s 2ms/step - loss: 0.3064 - accuracy: 0.9111\n",
            "Epoch 8/10\n",
            "1875/1875 [==============================] - 4s 2ms/step - loss: 0.3008 - accuracy: 0.9140\n",
            "Epoch 9/10\n",
            "1875/1875 [==============================] - 4s 2ms/step - loss: 0.2938 - accuracy: 0.9155\n",
            "Epoch 10/10\n",
            "1875/1875 [==============================] - 4s 2ms/step - loss: 0.2910 - accuracy: 0.9153\n"
          ]
        },
        {
          "output_type": "execute_result",
          "data": {
            "text/plain": [
              "<keras.callbacks.History at 0x7f45c80521d0>"
            ]
          },
          "metadata": {},
          "execution_count": 190
        }
      ],
      "source": [
        "model.fit(x_train, y_train, epochs=10, batch_size=batch_size)"
      ]
    },
    {
      "cell_type": "markdown",
      "metadata": {
        "id": "QJaLaoBdAU2l"
      },
      "source": [
        "<b>Model Evaluation - Training Set<b>"
      ]
    },
    {
      "cell_type": "code",
      "execution_count": 191,
      "metadata": {
        "colab": {
          "base_uri": "https://localhost:8080/"
        },
        "id": "HJFkKxabAXeK",
        "outputId": "62a049e7-7294-4f6b-f75d-f5611169bfb5"
      },
      "outputs": [
        {
          "output_type": "stream",
          "name": "stdout",
          "text": [
            "1875/1875 [==============================] - 3s 2ms/step - loss: 0.1748 - accuracy: 0.9509\n",
            "Accuracy: 95.09\n"
          ]
        }
      ],
      "source": [
        "_, accuracy = model.evaluate(x_train, y_train)\n",
        "print('Accuracy: %.2f' % (accuracy*100))"
      ]
    },
    {
      "cell_type": "markdown",
      "metadata": {
        "id": "HSmSfptTAgGb"
      },
      "source": [
        "<b>Model Evaluation - Testing Set<b>"
      ]
    },
    {
      "cell_type": "code",
      "execution_count": 192,
      "metadata": {
        "colab": {
          "base_uri": "https://localhost:8080/"
        },
        "id": "Px3xD-T1AXhv",
        "outputId": "4d1320ec-5c42-49c1-ec18-b27479d722e8"
      },
      "outputs": [
        {
          "output_type": "stream",
          "name": "stdout",
          "text": [
            "313/313 [==============================] - 1s 2ms/step - loss: 0.1928 - accuracy: 0.9475\n",
            "Accuracy: 94.75\n"
          ]
        }
      ],
      "source": [
        "_, accuracy = model.evaluate(x_test, y_test)\n",
        "print('Accuracy: %.2f' % (accuracy*100))"
      ]
    },
    {
      "cell_type": "markdown",
      "metadata": {
        "id": "WE3iBccHAXnp"
      },
      "source": [
        "<b><font color='red'>(d) Architecture evaluation<b></font><br><br>\n",
        "• Pick the best optimizer and it’s hyper-parameters from the previous part.<br>\n",
        "• Using sub training and validation datasets, find the best architecture in terms of the number of layers, the number of units, and activation functions.<br>\n",
        "• Report 3 best architectures in terms of test accuracy. Please include architecture diagram as shown in Figure 1."
      ]
    },
    {
      "cell_type": "code",
      "source": [
        ""
      ],
      "metadata": {
        "id": "UcDmlqnSTWtw"
      },
      "execution_count": null,
      "outputs": []
    },
    {
      "cell_type": "markdown",
      "metadata": {
        "id": "dPZOK7PiAXrO"
      },
      "source": [
        "<table>\n",
        "         <tr>\n",
        "            <th>Optimisers</th>\n",
        "            <th>Training Accuracy</th>\n",
        "            <th>Testing Accuracy</th>\n",
        "         </tr>\n",
        "</table>   \n",
        "<table>\n",
        "         <tr>\n",
        "            <th>Adam</th>\n",
        "            <th>94.88%</th>\n",
        "            <th>94.53%</th>\n",
        "         </tr>\n",
        "</table> \n",
        "<table>\n",
        "         <tr>\n",
        "            <th>Adagrad</th>\n",
        "            <th>75.83%</th>\n",
        "            <th>76.32%</th>\n",
        "         </tr>\n",
        "</table>    \n",
        "<table>    \n",
        "         <tr>\n",
        "            <th>SGD</th>\n",
        "            <th>92.92%</th>\n",
        "            <th>92.92%</th>\n",
        "         </tr>\n",
        "</table>\n",
        "<table>\n",
        "         <tr>\n",
        "            <th>RMSprop</th>\n",
        "            <th>95.09%</th>\n",
        "            <th>94.75%</th>\n",
        "         </tr>\n",
        "</table>\n"
      ]
    },
    {
      "cell_type": "markdown",
      "metadata": {
        "id": "ZwXzWE6uW-Tf"
      },
      "source": [
        "<Font color='red'><b>Best Optimiser For Architecture Evaluation 3 is RMSprop</font></b><br>\n",
        "    <font color='blue'>Hyper parameters used for RMSprop </font><br>\n",
        "    1.learning_rate=0.005, <br>\n",
        "    2.rho=0.2,<br>\n",
        "    3.momentum=0.9, <br>\n",
        "    4.epsilon=1e-07,<br>\n",
        "    5.centered=False <br>\n",
        "    6.Batch Size : 32 <br>\n",
        "    7.Dropout: 0.3 <br>\n",
        "    8.Activation Function : Sigmoid"
      ]
    },
    {
      "cell_type": "markdown",
      "metadata": {
        "id": "wEMgeIqkW-Tf"
      },
      "source": [
        "<font color = 'red'><b>Architecture 3 Diagram</font><b>"
      ]
    },
    {
      "cell_type": "markdown",
      "source": [
        "![arch3.png](data:image/png;base64,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)"
      ],
      "metadata": {
        "id": "iLwika7zcBMV"
      }
    },
    {
      "cell_type": "code",
      "execution_count": null,
      "metadata": {
        "id": "EQRIxD0CW-Tf"
      },
      "outputs": [],
      "source": [
        ""
      ]
    }
  ],
  "metadata": {
    "colab": {
      "name": "Assignment_5_arch3_final.ipynb",
      "provenance": []
    },
    "kernelspec": {
      "display_name": "Python 3 (ipykernel)",
      "language": "python",
      "name": "python3"
    },
    "language_info": {
      "codemirror_mode": {
        "name": "ipython",
        "version": 3
      },
      "file_extension": ".py",
      "mimetype": "text/x-python",
      "name": "python",
      "nbconvert_exporter": "python",
      "pygments_lexer": "ipython3",
      "version": "3.9.7"
    }
  },
  "nbformat": 4,
  "nbformat_minor": 0
}