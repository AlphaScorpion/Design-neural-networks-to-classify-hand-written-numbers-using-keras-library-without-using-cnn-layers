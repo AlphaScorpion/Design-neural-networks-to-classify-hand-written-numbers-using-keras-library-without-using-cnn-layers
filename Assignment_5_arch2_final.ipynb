{
  "cells": [
    {
      "cell_type": "markdown",
      "metadata": {
        "id": "hqyU22z5dbw-"
      },
      "source": [
        "<b>Name: Aishwarya Bhavsar<b><br>\n",
        "<b>CSULB ID: 029371509<b><br>\n",
        "<b>CECS 551 - Assignment 5<b><br>\n",
        "\n",
        "<b>Design neural networks to classify hand written numbers using keras library, however,do not include convolutional layers.<b>\n",
        "\n"
      ]
    },
    {
      "cell_type": "markdown",
      "metadata": {
        "id": "6zDcLKCIeKR3"
      },
      "source": [
        "<font color='red'><b>(a) Design neural networks and implement them.<b></font> <br>\n",
        "\n",
        "• Find Assignment 5 mnist.ipynb and mnist.zip.<br>\n",
        "• train X and test X are list of intensities in 8-bit gray scale of 28 × 28 images.<br>\n",
        "• train y and test y are list of integers which are the classes of the correspond\u0002ing images.<br>\n",
        "• The objective of the networks is classifying images into 0 to 9"
      ]
    },
    {
      "cell_type": "markdown",
      "metadata": {
        "id": "Q7Lu8JBIebOF"
      },
      "source": [
        "**Import Libraries**"
      ]
    },
    {
      "cell_type": "code",
      "execution_count": 14,
      "metadata": {
        "id": "9xhT2aVqjORK"
      },
      "outputs": [],
      "source": [
        "import numpy as np # linear algebra\n",
        "import pandas as pd # data processing, CSV file I/O (e.g. pd.read_csv)\n",
        "import matplotlib.pyplot as plt # plotting library\n",
        "from keras.models import Sequential\n",
        "from keras.layers import Dense , Activation, Dropout\n",
        "from tensorflow.keras.optimizers import Adam\n",
        "from keras import  backend as K\n"
      ]
    },
    {
      "cell_type": "markdown",
      "metadata": {
        "id": "U4egdUGUem7h"
      },
      "source": [
        "**Import & Load Dataset**<br>\n",
        "<b>Count the number of Unique train & test labels.<b>"
      ]
    },
    {
      "cell_type": "code",
      "execution_count": 15,
      "metadata": {
        "colab": {
          "base_uri": "https://localhost:8080/"
        },
        "id": "v8eCnezAj5Ej",
        "outputId": "262025c1-d141-4599-cd49-9eef99b07032"
      },
      "outputs": [
        {
          "output_type": "stream",
          "name": "stdout",
          "text": [
            "Train labels:  {0: 5923, 1: 6742, 2: 5958, 3: 6131, 4: 5842, 5: 5421, 6: 5918, 7: 6265, 8: 5851, 9: 5949}\n",
            "\n",
            "Test labels:  {0: 980, 1: 1135, 2: 1032, 3: 1010, 4: 982, 5: 892, 6: 958, 7: 1028, 8: 974, 9: 1009}\n"
          ]
        }
      ],
      "source": [
        "# import dataset\n",
        "from keras.datasets import mnist\n",
        "\n",
        "\n",
        "# load dataset\n",
        "(x_train, y_train),(x_test, y_test) = mnist.load_data()\n",
        "\n",
        "\n",
        "\n",
        "# count the number of unique train labels\n",
        "unique, counts = np.unique(y_train, return_counts=True)\n",
        "print(\"Train labels: \", dict(zip(unique, counts)))\n",
        "\n",
        "\n",
        "\n",
        "# count the number of unique test labels\n",
        "unique, counts = np.unique(y_test, return_counts=True)\n",
        "print(\"\\nTest labels: \", dict(zip(unique, counts)))\n"
      ]
    },
    {
      "cell_type": "code",
      "source": [
        "import matplotlib.pyplot as plt\n",
        "import numpy as np\n",
        "\n",
        "id = 7\n",
        "\n",
        "image = np.array(x_train[id], dtype='float')\n",
        "pixels = image.reshape((28, 28))\n",
        "plt.imshow(pixels, cmap='gray')\n",
        "plt.show()\n",
        "\n",
        "# print(X_train[id])\n",
        "print(y_train[id])"
      ],
      "metadata": {
        "colab": {
          "base_uri": "https://localhost:8080/",
          "height": 282
        },
        "id": "Tk-x5KZpYIE_",
        "outputId": "ef0a84d2-797c-4705-8800-7c43edb3d502"
      },
      "execution_count": 16,
      "outputs": [
        {
          "output_type": "display_data",
          "data": {
            "text/plain": [
              "<Figure size 432x288 with 1 Axes>"
            ],
            "image/png": "[encoded data removed]"
          },
          "metadata": {
            "needs_background": "light"
          }
        },
        {
          "output_type": "stream",
          "name": "stdout",
          "text": [
            "3\n"
          ]
        }
      ]
    },
    {
      "cell_type": "markdown",
      "metadata": {
        "id": "CHfkmQ2jfB3b"
      },
      "source": [
        "**Import keras libraries and packages**"
      ]
    },
    {
      "cell_type": "code",
      "execution_count": 18,
      "metadata": {
        "id": "-z7yNzFsj5Hg"
      },
      "outputs": [],
      "source": [
        "from keras.models import Sequential\n",
        "from keras.layers import Dense, Activation, Dropout\n",
        "from tensorflow.keras.utils import to_categorical, plot_model"
      ]
    },
    {
      "cell_type": "markdown",
      "metadata": {
        "id": "Z8AsGJ12fWPQ"
      },
      "source": [
        "**Compute the number of labels**"
      ]
    },
    {
      "cell_type": "code",
      "execution_count": 19,
      "metadata": {
        "id": "_vKIbdL5j5K5"
      },
      "outputs": [],
      "source": [
        "# compute the number of labels\n",
        "num_labels = len(np.unique(y_train))"
      ]
    },
    {
      "cell_type": "markdown",
      "metadata": {
        "id": "dsSz_fcUfcxI"
      },
      "source": [
        "<b>One Hot Encoding <br> <br>One Hot Encoding is a common way of preprocessing categorical features for machine learning models.<br> This type of encoding creates a new binary feature for each possible category and assigns a value of 1 to the feature of each sample that corresponds to its original category. <b>"
      ]
    },
    {
      "cell_type": "code",
      "execution_count": 20,
      "metadata": {
        "id": "E4l1A5Ugj5QS"
      },
      "outputs": [],
      "source": [
        "# convert to one-hot vector\n",
        "y_train = to_categorical(y_train)\n",
        "y_test = to_categorical(y_test)"
      ]
    },
    {
      "cell_type": "code",
      "execution_count": 21,
      "metadata": {
        "colab": {
          "base_uri": "https://localhost:8080/"
        },
        "id": "_ebKf39xkd6z",
        "outputId": "bfb712d7-515c-4395-d7bf-19b4b810f650"
      },
      "outputs": [
        {
          "output_type": "execute_result",
          "data": {
            "text/plain": [
              "784"
            ]
          },
          "metadata": {},
          "execution_count": 21
        }
      ],
      "source": [
        "# image dimensions (assumed square)\n",
        "image_size = x_train.shape[1]\n",
        "input_size = image_size * image_size\n",
        "input_size"
      ]
    },
    {
      "cell_type": "markdown",
      "metadata": {
        "id": "lCqmUUImjHCs"
      },
      "source": [
        "<b>Resize & Normalize<b><br>\n",
        "We know that the pixel values for each image in the dataset are unsigned integers in the range between black and white, or 0 and 255.<br>\n",
        "\n",
        "We do not know the best way to scale the pixel values for modeling, but we know that some scaling will be required.<br>\n",
        "\n",
        "A good starting point is to normalize the pixel values of grayscale images, e.g. rescale them to the range [0,1]. This involves first converting the data type from unsigned integers to floats, then dividing the pixel values by the maximum value.\n",
        "\n"
      ]
    },
    {
      "cell_type": "code",
      "execution_count": 22,
      "metadata": {
        "id": "y4eDZ0Pwkd9i"
      },
      "outputs": [],
      "source": [
        "# resize and normalize\n",
        "x_train = np.reshape(x_train, [-1, input_size])\n",
        "x_train = x_train.astype('float32') / 255\n",
        "x_test = np.reshape(x_test, [-1, input_size])\n",
        "x_test = x_test.astype('float32') / 255"
      ]
    },
    {
      "cell_type": "markdown",
      "metadata": {
        "id": "LNrdAdmymYyq"
      },
      "source": [
        "<font color='red'><b>(b) Split the training dataset into sub training and validation sets randomly.<b></font> <br><br> Use 1/6 of training dataset as validation set. Use the ‘accuracy’ as metric. Please repeat 10 times of random split for each hyper-parameters and architecture, and aggregate (average) the accuracy.<b>"
      ]
    },
    {
      "cell_type": "markdown",
      "metadata": {
        "id": "-Lu8QeaZkpSy"
      },
      "source": [
        "<b>Splitting of dataset : Validation set = 1/6th of training data<b>"
      ]
    },
    {
      "cell_type": "code",
      "execution_count": 23,
      "metadata": {
        "id": "X-b_cQotv0sR"
      },
      "outputs": [],
      "source": [
        "from sklearn.model_selection import train_test_split\n",
        "x_subtrain, x_valid, y_subtrain, y_valid = train_test_split(x_train, y_train, test_size=0.16,random_state=42)"
      ]
    },
    {
      "cell_type": "markdown",
      "metadata": {
        "id": "fKnn1SyxmTak"
      },
      "source": [
        "\n",
        "<font color='red'><b>(c) Optimizer evaluation<b></font> <br><br>\n",
        "• Implement a neural network which has single hidden layer with 32 units. Us\u0002ing the network, find best hyper-parameters of the following optimizers; SGD,RMSprop, Adam, Adagrad.<br>\n",
        "• Train the network with the training dataset (not sub training) with the best\n",
        "hyper-parameters of each optimizer.<br>\n",
        "• For each optimizer, report test accuracy using the test dataset.<b>"
      ]
    },
    {
      "cell_type": "markdown",
      "metadata": {
        "id": "Sqx1ZRTwla8p"
      },
      "source": [
        "<b> 1. Train Model using <font color = 'blue'>ADAM optimiser.<b> "
      ]
    },
    {
      "cell_type": "code",
      "execution_count": 41,
      "metadata": {
        "id": "wJL7mvxcbWnD"
      },
      "outputs": [],
      "source": [
        "from keras.layers import Dense\n",
        "from tensorflow.keras.optimizers import Adam\n",
        "import tensorflow as tf\n",
        "tf.keras.optimizers.Adam(learning_rate=0.01, beta_1=0.9, beta_2=0.999, epsilon=1e-07, amsgrad=False, name=\"Adam\")\n",
        "def create_model():\n",
        "  model = Sequential()\n",
        "  model.add(Dense(32, input_dim = num_pixels, activation = 'relu'))\n",
        "  model.compile(Adam(lr=0.01), loss='binary_crossentropy',metrics=['accuracy'])\n",
        "  return model"
      ]
    },
    {
      "cell_type": "markdown",
      "metadata": {
        "id": "SimXRvH3ln1j"
      },
      "source": [
        "<b>Compile the model using ADAM Optimiser<b>"
      ]
    },
    {
      "cell_type": "code",
      "execution_count": 53,
      "metadata": {
        "id": "uQb0cic3mC-B"
      },
      "outputs": [],
      "source": [
        "batch_size = 256\n",
        "hidden_units = 32\n",
        "dropout = 0.4\n",
        "# model is a 1-layer MLP with ReLU and dropout after each layer\n",
        "model = Sequential()\n",
        "model.add(Dense(hidden_units, input_dim=input_size))\n",
        "model.add(Activation('softmax'))\n",
        "model.add(Dropout(dropout))\n",
        "model.add(Dense(num_labels))\n",
        "model.add(Activation('softmax'))\n",
        "model.compile(optimizer='adam', loss='categorical_crossentropy', metrics=['accuracy'])\n"
      ]
    },
    {
      "cell_type": "code",
      "source": [
        "model.summary()"
      ],
      "metadata": {
        "colab": {
          "base_uri": "https://localhost:8080/"
        },
        "id": "XmtGMClXbnP9",
        "outputId": "6ed44704-77ac-4b41-99df-842ec55ea612"
      },
      "execution_count": 54,
      "outputs": [
        {
          "output_type": "stream",
          "name": "stdout",
          "text": [
            "Model: \"sequential_3\"\n",
            "_________________________________________________________________\n",
            " Layer (type)                Output Shape              Param #   \n",
            "=================================================================\n",
            " dense_6 (Dense)             (None, 32)                25120     \n",
            "                                                                 \n",
            " activation_7 (Activation)   (None, 32)                0         \n",
            "                                                                 \n",
            " dropout_4 (Dropout)         (None, 32)                0         \n",
            "                                                                 \n",
            " dense_7 (Dense)             (None, 10)                330       \n",
            "                                                                 \n",
            " activation_8 (Activation)   (None, 10)                0         \n",
            "                                                                 \n",
            "=================================================================\n",
            "Total params: 25,450\n",
            "Trainable params: 25,450\n",
            "Non-trainable params: 0\n",
            "_________________________________________________________________\n"
          ]
        }
      ]
    },
    {
      "cell_type": "code",
      "source": [
        "plot_model(model, to_file='mlp-mnist.png', show_shapes=True)"
      ],
      "metadata": {
        "colab": {
          "base_uri": "https://localhost:8080/",
          "height": 644
        },
        "id": "LtVeXbuxcJqZ",
        "outputId": "0ffadf7d-0868-487a-a616-24d82fdaedbe"
      },
      "execution_count": 55,
      "outputs": [
        {
          "output_type": "execute_result",
          "data": {
            "text/plain": [
              "<IPython.core.display.Image object>"
            ],
            "image/png": "[encoded data removed]"
          },
          "metadata": {},
          "execution_count": 55
        }
      ]
    },
    {
      "cell_type": "code",
      "execution_count": 56,
      "metadata": {
        "colab": {
          "base_uri": "https://localhost:8080/"
        },
        "id": "-UfVw-2VmDTk",
        "outputId": "36b1f427-f67e-4a36-c75f-bad52c84a64b"
      },
      "outputs": [
        {
          "output_type": "stream",
          "name": "stdout",
          "text": [
            "Epoch 1/10\n",
            "235/235 [==============================] - 2s 6ms/step - loss: 1.9927 - accuracy: 0.4552\n",
            "Epoch 2/10\n",
            "235/235 [==============================] - 1s 5ms/step - loss: 1.6158 - accuracy: 0.5239\n",
            "Epoch 3/10\n",
            "235/235 [==============================] - 1s 6ms/step - loss: 1.4356 - accuracy: 0.5349\n",
            "Epoch 4/10\n",
            "235/235 [==============================] - 2s 7ms/step - loss: 1.3502 - accuracy: 0.5479\n",
            "Epoch 5/10\n",
            "235/235 [==============================] - 1s 6ms/step - loss: 1.2819 - accuracy: 0.5633\n",
            "Epoch 6/10\n",
            "235/235 [==============================] - 1s 5ms/step - loss: 1.2173 - accuracy: 0.5808\n",
            "Epoch 7/10\n",
            "235/235 [==============================] - 1s 6ms/step - loss: 1.1837 - accuracy: 0.5886\n",
            "Epoch 8/10\n",
            "235/235 [==============================] - 1s 5ms/step - loss: 1.1530 - accuracy: 0.5935\n",
            "Epoch 9/10\n",
            "235/235 [==============================] - 1s 6ms/step - loss: 1.1306 - accuracy: 0.5992\n",
            "Epoch 10/10\n",
            "235/235 [==============================] - 2s 7ms/step - loss: 1.1114 - accuracy: 0.6077\n"
          ]
        },
        {
          "output_type": "execute_result",
          "data": {
            "text/plain": [
              "<keras.callbacks.History at 0x7f45e5357bd0>"
            ]
          },
          "metadata": {},
          "execution_count": 56
        }
      ],
      "source": [
        "model.fit(x_train, y_train, epochs=10, batch_size=batch_size)"
      ]
    },
    {
      "cell_type": "markdown",
      "metadata": {
        "id": "nNTt1SwOl6So"
      },
      "source": [
        "<b>Model Evaluation - Training Set<b>"
      ]
    },
    {
      "cell_type": "code",
      "execution_count": 57,
      "metadata": {
        "colab": {
          "base_uri": "https://localhost:8080/"
        },
        "id": "0WGuMCnWmDbk",
        "outputId": "bc3d5044-5fed-4d0a-e055-8f4715725397"
      },
      "outputs": [
        {
          "output_type": "stream",
          "name": "stdout",
          "text": [
            "1875/1875 [==============================] - 6s 3ms/step - loss: 0.6573 - accuracy: 0.9061\n",
            "Accuracy: 90.61\n"
          ]
        }
      ],
      "source": [
        "#By changing the batch size from 128 to 256 and reducing the dropout rate from 0.45 to 0.4 we are able to gain an accuracy of 90.91%\n",
        "_, accuracy = model.evaluate(x_train, y_train)\n",
        "print('Accuracy: %.2f' % (accuracy*100))"
      ]
    },
    {
      "cell_type": "markdown",
      "metadata": {
        "id": "DZQL-CfjmB8o"
      },
      "source": [
        "<b>Model Evaluation - Testing Set<b>"
      ]
    },
    {
      "cell_type": "code",
      "execution_count": 58,
      "metadata": {
        "colab": {
          "base_uri": "https://localhost:8080/"
        },
        "id": "wLVNymLlmIz6",
        "outputId": "db8b1b13-b95a-4935-8f2c-cf5f3865e817"
      },
      "outputs": [
        {
          "output_type": "stream",
          "name": "stdout",
          "text": [
            "313/313 [==============================] - 1s 3ms/step - loss: 0.6553 - accuracy: 0.9008\n",
            "Accuracy: 90.08\n"
          ]
        }
      ],
      "source": [
        "_, accuracy = model.evaluate(x_test, y_test)\n",
        "print('Accuracy: %.2f' % (accuracy*100))"
      ]
    },
    {
      "cell_type": "markdown",
      "metadata": {
        "id": "xiatGJ_Zonz3"
      },
      "source": [
        "<b> 2. Train Model using <font color = 'blue'>ADAGRAD optimiser.<b>"
      ]
    },
    {
      "cell_type": "code",
      "execution_count": 62,
      "metadata": {
        "id": "DNLb8mu8owlO"
      },
      "outputs": [],
      "source": [
        "from keras.layers import Dense\n",
        "from tensorflow.keras.optimizers import Adagrad\n",
        "\n",
        "tf.keras.optimizers.Adagrad(learning_rate=0.001,initial_accumulator_value=0.1, epsilon=1e-07, name=\"Adagrad\")\n",
        "def create_model():\n",
        "  model = Sequential()\n",
        "  model.add(Dense(32, activation='relu'))\n",
        "  model.compile(loss='categorical_crossentropy', optimizer='Adagrad', metrics=['accuracy'])\n",
        "  return model"
      ]
    },
    {
      "cell_type": "code",
      "execution_count": 63,
      "metadata": {
        "colab": {
          "base_uri": "https://localhost:8080/"
        },
        "id": "iZjF-LBUowwL",
        "outputId": "7a5e6870-9a5c-44a3-9b1d-ee7f79136816"
      },
      "outputs": [
        {
          "output_type": "stream",
          "name": "stdout",
          "text": [
            "Model: \"sequential_4\"\n",
            "_________________________________________________________________\n",
            " Layer (type)                Output Shape              Param #   \n",
            "=================================================================\n",
            " dense_8 (Dense)             (None, 32)                25120     \n",
            "                                                                 \n",
            " activation_9 (Activation)   (None, 32)                0         \n",
            "                                                                 \n",
            " dropout_5 (Dropout)         (None, 32)                0         \n",
            "                                                                 \n",
            " dense_9 (Dense)             (None, 10)                330       \n",
            "                                                                 \n",
            " activation_10 (Activation)  (None, 10)                0         \n",
            "                                                                 \n",
            "=================================================================\n",
            "Total params: 25,450\n",
            "Trainable params: 25,450\n",
            "Non-trainable params: 0\n",
            "_________________________________________________________________\n"
          ]
        }
      ],
      "source": [
        "model.summary()"
      ]
    },
    {
      "cell_type": "code",
      "execution_count": 64,
      "metadata": {
        "colab": {
          "base_uri": "https://localhost:8080/",
          "height": 644
        },
        "id": "j3FIp_MzowzD",
        "outputId": "9e84e524-5b62-49eb-a69a-baa409dd75fe"
      },
      "outputs": [
        {
          "output_type": "execute_result",
          "data": {
            "text/plain": [
              "<IPython.core.display.Image object>"
            ],
            "image/png": "[encoded data removed]"
          },
          "metadata": {},
          "execution_count": 64
        }
      ],
      "source": [
        "plot_model(model, to_file='mlp-mnist.png', show_shapes=True)"
      ]
    },
    {
      "cell_type": "markdown",
      "metadata": {
        "id": "2LlDkcjiwroR"
      },
      "source": [
        "<b>Compile the model using ADAGRAD Optimiser<b>"
      ]
    },
    {
      "cell_type": "code",
      "execution_count": 75,
      "metadata": {
        "id": "5nmWdPGxow2U"
      },
      "outputs": [],
      "source": [
        "batch_size = 256\n",
        "hidden_units = 32\n",
        "dropout = 0.3\n",
        "# model is a 1-layer MLP with ReLU and dropout after each layer\n",
        "model = Sequential()\n",
        "model.add(Dense(hidden_units, input_dim=input_size))\n",
        "model.add(Activation('relu'))\n",
        "model.add(Dropout(dropout))\n",
        "model.add(Dense(num_labels))\n",
        "model.add(Activation('softmax'))\n",
        "model.compile(optimizer='adagrad', loss='categorical_crossentropy', metrics=['accuracy'])\n"
      ]
    },
    {
      "cell_type": "code",
      "execution_count": 76,
      "metadata": {
        "colab": {
          "base_uri": "https://localhost:8080/"
        },
        "id": "zd36yb2gow5Q",
        "outputId": "71f27ee9-ebe5-416f-93f7-69321605de90"
      },
      "outputs": [
        {
          "output_type": "stream",
          "name": "stdout",
          "text": [
            "Epoch 1/10\n",
            "235/235 [==============================] - 1s 4ms/step - loss: 2.1936 - accuracy: 0.2356\n",
            "Epoch 2/10\n",
            "235/235 [==============================] - 1s 5ms/step - loss: 1.9254 - accuracy: 0.4129\n",
            "Epoch 3/10\n",
            "235/235 [==============================] - 1s 4ms/step - loss: 1.7229 - accuracy: 0.5056\n",
            "Epoch 4/10\n",
            "235/235 [==============================] - 1s 5ms/step - loss: 1.5558 - accuracy: 0.5660\n",
            "Epoch 5/10\n",
            "235/235 [==============================] - 1s 5ms/step - loss: 1.4254 - accuracy: 0.6054\n",
            "Epoch 6/10\n",
            "235/235 [==============================] - 1s 5ms/step - loss: 1.3211 - accuracy: 0.6306\n",
            "Epoch 7/10\n",
            "235/235 [==============================] - 1s 5ms/step - loss: 1.2357 - accuracy: 0.6567\n",
            "Epoch 8/10\n",
            "235/235 [==============================] - 1s 5ms/step - loss: 1.1711 - accuracy: 0.6709\n",
            "Epoch 9/10\n",
            "235/235 [==============================] - 1s 5ms/step - loss: 1.1201 - accuracy: 0.6840\n",
            "Epoch 10/10\n",
            "235/235 [==============================] - 1s 4ms/step - loss: 1.0701 - accuracy: 0.6983\n"
          ]
        },
        {
          "output_type": "execute_result",
          "data": {
            "text/plain": [
              "<keras.callbacks.History at 0x7f45e4e9a790>"
            ]
          },
          "metadata": {},
          "execution_count": 76
        }
      ],
      "source": [
        "model.fit(x_train, y_train, epochs=10, batch_size=batch_size)"
      ]
    },
    {
      "cell_type": "markdown",
      "metadata": {
        "id": "SbwPYAfow_Ix"
      },
      "source": [
        "<b>Model Evaluation - Training Set<b>"
      ]
    },
    {
      "cell_type": "code",
      "execution_count": 77,
      "metadata": {
        "colab": {
          "base_uri": "https://localhost:8080/"
        },
        "id": "Dzljy7o3ow8s",
        "outputId": "b478c35b-55cd-42cb-d88e-560854f533f1"
      },
      "outputs": [
        {
          "output_type": "stream",
          "name": "stdout",
          "text": [
            "1875/1875 [==============================] - 3s 2ms/step - loss: 0.8830 - accuracy: 0.8250\n",
            "Accuracy: 82.50\n"
          ]
        }
      ],
      "source": [
        "\n",
        "#We can increase the accuracy using relu and softmax activation functions.\n",
        "#Similarly, by decreasing the dropout rate from 0.45 to 0.3 and increasing the batch size from 128 to 256, accuracy of 82.50% is achieved.\n",
        "_, accuracy = model.evaluate(x_train, y_train)\n",
        "print('Accuracy: %.2f' % (accuracy*100))"
      ]
    },
    {
      "cell_type": "markdown",
      "metadata": {
        "id": "ffnl23Q2xGRx"
      },
      "source": [
        "<b>Model Evaluation - Testing Set<b>"
      ]
    },
    {
      "cell_type": "code",
      "execution_count": 78,
      "metadata": {
        "colab": {
          "base_uri": "https://localhost:8080/"
        },
        "id": "Zj2qTST0xNH-",
        "outputId": "3586992c-6bb3-4474-fe1b-aff2e7d3c1f1"
      },
      "outputs": [
        {
          "output_type": "stream",
          "name": "stdout",
          "text": [
            "313/313 [==============================] - 1s 2ms/step - loss: 0.8635 - accuracy: 0.8302\n",
            "Accuracy: 83.02\n"
          ]
        }
      ],
      "source": [
        "_, accuracy = model.evaluate(x_test, y_test)\n",
        "print('Accuracy: %.2f' % (accuracy*100))"
      ]
    },
    {
      "cell_type": "markdown",
      "metadata": {
        "id": "nAG-701Y0D79"
      },
      "source": [
        "<b> 3. Train Model using <font color = 'blue'>SGD optimiser.<b>"
      ]
    },
    {
      "cell_type": "code",
      "execution_count": 85,
      "metadata": {
        "id": "LVjX8NBp0vrw"
      },
      "outputs": [],
      "source": [
        "from keras.layers import Dense\n",
        "from tensorflow.keras.optimizers import SGD\n",
        "tf.keras.optimizers.SGD(learning_rate=0.01, momentum=0.0, nesterov=False, name=\"SGD\")\n",
        "def create_model():\n",
        "  model3 = Sequential()\n",
        "  model3.add(Dense(32, activation='softmax'))\n",
        "  model3.compile(loss='categorical_crossentropy', optimizer='SGD', metrics=['accuracy'])\n",
        "  return model"
      ]
    },
    {
      "cell_type": "code",
      "execution_count": 86,
      "metadata": {
        "colab": {
          "base_uri": "https://localhost:8080/"
        },
        "id": "5UJmWDJw0v55",
        "outputId": "95c1c573-5fa6-4b02-dcb1-699bec74796f"
      },
      "outputs": [
        {
          "output_type": "stream",
          "name": "stdout",
          "text": [
            "Model: \"sequential_9\"\n",
            "_________________________________________________________________\n",
            " Layer (type)                Output Shape              Param #   \n",
            "=================================================================\n",
            " dense_18 (Dense)            (None, 32)                25120     \n",
            "                                                                 \n",
            " activation_19 (Activation)  (None, 32)                0         \n",
            "                                                                 \n",
            " dropout_10 (Dropout)        (None, 32)                0         \n",
            "                                                                 \n",
            " dense_19 (Dense)            (None, 10)                330       \n",
            "                                                                 \n",
            " activation_20 (Activation)  (None, 10)                0         \n",
            "                                                                 \n",
            "=================================================================\n",
            "Total params: 25,450\n",
            "Trainable params: 25,450\n",
            "Non-trainable params: 0\n",
            "_________________________________________________________________\n"
          ]
        }
      ],
      "source": [
        "model.summary()"
      ]
    },
    {
      "cell_type": "code",
      "execution_count": 87,
      "metadata": {
        "colab": {
          "base_uri": "https://localhost:8080/",
          "height": 644
        },
        "id": "X9vW6he30v9T",
        "outputId": "01db3991-2622-4a1d-da1e-fbf5a71726e6"
      },
      "outputs": [
        {
          "output_type": "execute_result",
          "data": {
            "text/plain": [
              "<IPython.core.display.Image object>"
            ],
            "image/png": "[encoded data removed]"
          },
          "metadata": {},
          "execution_count": 87
        }
      ],
      "source": [
        "plot_model(model, to_file='mlp-mnist.png', show_shapes=True)"
      ]
    },
    {
      "cell_type": "markdown",
      "metadata": {
        "id": "a-vrG_kM1RWu"
      },
      "source": [
        "<b>Compile the model using SGD Optimiser<b>"
      ]
    },
    {
      "cell_type": "code",
      "execution_count": 103,
      "metadata": {
        "id": "WEAiPvhu0wFE"
      },
      "outputs": [],
      "source": [
        "batch_size = 412\n",
        "hidden_units = 32\n",
        "dropout = 0.45\n",
        "# model is a 1-layer MLP with ReLU and dropout after each layer\n",
        "model = Sequential()\n",
        "model.add(Dense(hidden_units, input_dim=input_size))\n",
        "model.add(Activation('tanh'))\n",
        "model.add(Dropout(dropout))\n",
        "model.add(Dense(num_labels))\n",
        "model.add(Activation('softmax'))\n",
        "model.compile(optimizer='SGD', loss='categorical_crossentropy', metrics=['accuracy'])"
      ]
    },
    {
      "cell_type": "code",
      "execution_count": 104,
      "metadata": {
        "colab": {
          "base_uri": "https://localhost:8080/"
        },
        "id": "5Nn8BG211L3m",
        "outputId": "dff91839-41a9-41a6-b7f8-43d356588257"
      },
      "outputs": [
        {
          "output_type": "stream",
          "name": "stdout",
          "text": [
            "Epoch 1/10\n",
            "146/146 [==============================] - 1s 5ms/step - loss: 1.8383 - accuracy: 0.4064\n",
            "Epoch 2/10\n",
            "146/146 [==============================] - 1s 7ms/step - loss: 1.2641 - accuracy: 0.6795\n",
            "Epoch 3/10\n",
            "146/146 [==============================] - 1s 7ms/step - loss: 1.0371 - accuracy: 0.7389\n",
            "Epoch 4/10\n",
            "146/146 [==============================] - 1s 7ms/step - loss: 0.9103 - accuracy: 0.7639\n",
            "Epoch 5/10\n",
            "146/146 [==============================] - 1s 6ms/step - loss: 0.8272 - accuracy: 0.7840\n",
            "Epoch 6/10\n",
            "146/146 [==============================] - 1s 5ms/step - loss: 0.7659 - accuracy: 0.7972\n",
            "Epoch 7/10\n",
            "146/146 [==============================] - 1s 6ms/step - loss: 0.7216 - accuracy: 0.8074\n",
            "Epoch 8/10\n",
            "146/146 [==============================] - 1s 6ms/step - loss: 0.6880 - accuracy: 0.8161\n",
            "Epoch 9/10\n",
            "146/146 [==============================] - 1s 4ms/step - loss: 0.6616 - accuracy: 0.8212\n",
            "Epoch 10/10\n",
            "146/146 [==============================] - 1s 6ms/step - loss: 0.6335 - accuracy: 0.8268\n"
          ]
        },
        {
          "output_type": "execute_result",
          "data": {
            "text/plain": [
              "<keras.callbacks.History at 0x7f45d5654650>"
            ]
          },
          "metadata": {},
          "execution_count": 104
        }
      ],
      "source": [
        "model.fit(x_train, y_train, epochs=10, batch_size=batch_size)"
      ]
    },
    {
      "cell_type": "markdown",
      "metadata": {
        "id": "DAXCNkRM1uEM"
      },
      "source": [
        "<b>Model Evaluation - Training Set<b>"
      ]
    },
    {
      "cell_type": "code",
      "execution_count": 105,
      "metadata": {
        "colab": {
          "base_uri": "https://localhost:8080/"
        },
        "id": "pXJKp05l1L7H",
        "outputId": "e33b8aba-d961-4505-98c3-5d44214b45aa"
      },
      "outputs": [
        {
          "output_type": "stream",
          "name": "stdout",
          "text": [
            "1875/1875 [==============================] - 3s 2ms/step - loss: 0.4980 - accuracy: 0.8784\n",
            "Accuracy: 87.84\n"
          ]
        }
      ],
      "source": [
        "#Batch size changed from 128 to 412.\n",
        "#tanh and softmax activation function used for the layer.\n",
        "_, accuracy = model.evaluate(x_train, y_train)\n",
        "print('Accuracy: %.2f' % (accuracy*100))"
      ]
    },
    {
      "cell_type": "markdown",
      "metadata": {
        "id": "OgQnYEcH1_Al"
      },
      "source": [
        "<b>Model Evaluation - Testing Set<b>"
      ]
    },
    {
      "cell_type": "code",
      "execution_count": 106,
      "metadata": {
        "colab": {
          "base_uri": "https://localhost:8080/"
        },
        "id": "j7NF7jMs2AoC",
        "outputId": "61cd5754-19f4-4123-da38-47456b4a7aa5"
      },
      "outputs": [
        {
          "output_type": "stream",
          "name": "stdout",
          "text": [
            "313/313 [==============================] - 1s 2ms/step - loss: 0.4796 - accuracy: 0.8846\n",
            "Accuracy: 88.46\n"
          ]
        }
      ],
      "source": [
        "_, accuracy = model.evaluate(x_test, y_test)\n",
        "print('Accuracy: %.2f' % (accuracy*100))"
      ]
    },
    {
      "cell_type": "markdown",
      "metadata": {
        "id": "pxzhAYAM60gA"
      },
      "source": [
        "<b> 4. Train Model using <font color = 'blue'>RMSprop optimiser.<b>"
      ]
    },
    {
      "cell_type": "code",
      "execution_count": 108,
      "metadata": {
        "id": "XHphS4nQ-wlY"
      },
      "outputs": [],
      "source": [
        "from keras.layers import Dense\n",
        "from tensorflow.keras.optimizers import RMSprop\n",
        "tf.keras.optimizers.RMSprop(learning_rate=0.005, rho=0.2, momentum=0.9, epsilon=1e-07, centered=False, name=\"RMSprop\")\n",
        "def create_model():\n",
        "  model = Sequential()\n",
        "  model.add(Dense(32, activation='relu'))\n",
        "  model.compile(loss='categorical_crossentropy', optimizer='RMSprop', metrics=['accuracy'])\n",
        "  return model"
      ]
    },
    {
      "cell_type": "code",
      "execution_count": 109,
      "metadata": {
        "colab": {
          "base_uri": "https://localhost:8080/"
        },
        "id": "4ah00duB-wyT",
        "outputId": "1cbc4ad6-02b0-4e53-faa1-ccfc69848b62"
      },
      "outputs": [
        {
          "output_type": "stream",
          "name": "stdout",
          "text": [
            "Model: \"sequential_17\"\n",
            "_________________________________________________________________\n",
            " Layer (type)                Output Shape              Param #   \n",
            "=================================================================\n",
            " dense_34 (Dense)            (None, 32)                25120     \n",
            "                                                                 \n",
            " activation_35 (Activation)  (None, 32)                0         \n",
            "                                                                 \n",
            " dropout_18 (Dropout)        (None, 32)                0         \n",
            "                                                                 \n",
            " dense_35 (Dense)            (None, 10)                330       \n",
            "                                                                 \n",
            " activation_36 (Activation)  (None, 10)                0         \n",
            "                                                                 \n",
            "=================================================================\n",
            "Total params: 25,450\n",
            "Trainable params: 25,450\n",
            "Non-trainable params: 0\n",
            "_________________________________________________________________\n"
          ]
        }
      ],
      "source": [
        "model.summary()"
      ]
    },
    {
      "cell_type": "code",
      "execution_count": 110,
      "metadata": {
        "colab": {
          "base_uri": "https://localhost:8080/",
          "height": 644
        },
        "id": "Kz9moc9p-w3M",
        "outputId": "d12e40d0-5a72-4c2c-8d06-f6ecd4c086c1"
      },
      "outputs": [
        {
          "output_type": "execute_result",
          "data": {
            "text/plain": [
              "<IPython.core.display.Image object>"
            ],
            "image/png": "[encoded data removed]"
          },
          "metadata": {},
          "execution_count": 110
        }
      ],
      "source": [
        "plot_model(model, to_file='mlp-mnist.png', show_shapes=True)"
      ]
    },
    {
      "cell_type": "markdown",
      "metadata": {
        "id": "_yGwJkNN_kQ5"
      },
      "source": [
        "<b>Compile the model using RMSprop Optimiser<b>"
      ]
    },
    {
      "cell_type": "code",
      "execution_count": 118,
      "metadata": {
        "id": "x8EijkY2-w8j"
      },
      "outputs": [],
      "source": [
        "batch_size = 540\n",
        "hidden_units = 32\n",
        "dropout = 0.3\n",
        "# model is a 1-layer MLP with ReLU and dropout after each layer\n",
        "model = Sequential()\n",
        "model.add(Dense(hidden_units, input_dim=input_size))\n",
        "model.add(Activation('softmax'))\n",
        "model.add(Dropout(dropout))\n",
        "model.add(Dense(num_labels))\n",
        "model.add(Activation('softmax'))\n",
        "model.compile(optimizer='RMSprop', loss='categorical_crossentropy', metrics=['accuracy'])"
      ]
    },
    {
      "cell_type": "code",
      "execution_count": 119,
      "metadata": {
        "colab": {
          "base_uri": "https://localhost:8080/"
        },
        "id": "dSVkLb97-xAO",
        "outputId": "3a626211-eb98-477a-c281-58ee1a29f7cd"
      },
      "outputs": [
        {
          "output_type": "stream",
          "name": "stdout",
          "text": [
            "Epoch 1/10\n",
            "112/112 [==============================] - 1s 8ms/step - loss: 2.0965 - accuracy: 0.4639\n",
            "Epoch 2/10\n",
            "112/112 [==============================] - 1s 12ms/step - loss: 1.8762 - accuracy: 0.5217\n",
            "Epoch 3/10\n",
            "112/112 [==============================] - 2s 14ms/step - loss: 1.7306 - accuracy: 0.5779\n",
            "Epoch 4/10\n",
            "112/112 [==============================] - 1s 12ms/step - loss: 1.5989 - accuracy: 0.6152\n",
            "Epoch 5/10\n",
            "112/112 [==============================] - 1s 11ms/step - loss: 1.4861 - accuracy: 0.6518\n",
            "Epoch 6/10\n",
            "112/112 [==============================] - 1s 13ms/step - loss: 1.3821 - accuracy: 0.6750\n",
            "Epoch 7/10\n",
            "112/112 [==============================] - 1s 13ms/step - loss: 1.2821 - accuracy: 0.6920\n",
            "Epoch 8/10\n",
            "112/112 [==============================] - 1s 12ms/step - loss: 1.1942 - accuracy: 0.7023\n",
            "Epoch 9/10\n",
            "112/112 [==============================] - 1s 13ms/step - loss: 1.1193 - accuracy: 0.7103\n",
            "Epoch 10/10\n",
            "112/112 [==============================] - 1s 12ms/step - loss: 1.0564 - accuracy: 0.7152\n"
          ]
        },
        {
          "output_type": "execute_result",
          "data": {
            "text/plain": [
              "<keras.callbacks.History at 0x7f45d52de3d0>"
            ]
          },
          "metadata": {},
          "execution_count": 119
        }
      ],
      "source": [
        "model.fit(x_train, y_train, epochs=10, batch_size=batch_size)"
      ]
    },
    {
      "cell_type": "markdown",
      "metadata": {
        "id": "QJaLaoBdAU2l"
      },
      "source": [
        "<b>Model Evaluation - Training Set<b>"
      ]
    },
    {
      "cell_type": "code",
      "execution_count": 120,
      "metadata": {
        "colab": {
          "base_uri": "https://localhost:8080/"
        },
        "id": "HJFkKxabAXeK",
        "outputId": "15275666-61aa-4128-e3bb-b8793995643c"
      },
      "outputs": [
        {
          "output_type": "stream",
          "name": "stdout",
          "text": [
            "1875/1875 [==============================] - 4s 2ms/step - loss: 0.8079 - accuracy: 0.9253\n",
            "Accuracy: 92.53\n"
          ]
        }
      ],
      "source": [
        "_, accuracy = model.evaluate(x_train, y_train)\n",
        "print('Accuracy: %.2f' % (accuracy*100))"
      ]
    },
    {
      "cell_type": "markdown",
      "metadata": {
        "id": "HSmSfptTAgGb"
      },
      "source": [
        "<b>Model Evaluation - Testing Set<b>"
      ]
    },
    {
      "cell_type": "code",
      "execution_count": 121,
      "metadata": {
        "colab": {
          "base_uri": "https://localhost:8080/"
        },
        "id": "Px3xD-T1AXhv",
        "outputId": "b105f540-e063-463c-96d3-d926cfd629f6"
      },
      "outputs": [
        {
          "output_type": "stream",
          "name": "stdout",
          "text": [
            "313/313 [==============================] - 1s 2ms/step - loss: 0.8079 - accuracy: 0.9232\n",
            "Accuracy: 92.32\n"
          ]
        }
      ],
      "source": [
        "_, accuracy = model.evaluate(x_test, y_test)\n",
        "print('Accuracy: %.2f' % (accuracy*100))"
      ]
    },
    {
      "cell_type": "markdown",
      "metadata": {
        "id": "WE3iBccHAXnp"
      },
      "source": [
        "<b><font color='red'>(d) Architecture evaluation<b></font><br><br>\n",
        "• Pick the best optimizer and it’s hyper-parameters from the previous part.<br>\n",
        "• Using sub training and validation datasets, find the best architecture in terms of the number of layers, the number of units, and activation functions.<br>\n",
        "• Report 3 best architectures in terms of test accuracy. Please include architecture diagram as shown in Figure 1."
      ]
    },
    {
      "cell_type": "markdown",
      "metadata": {
        "id": "dPZOK7PiAXrO"
      },
      "source": [
        "<table>\n",
        "         <tr>\n",
        "            <th>Optimisers</th>\n",
        "            <th>Training Accuracy</th>\n",
        "            <th>Testing Accuracy</th>\n",
        "         </tr>\n",
        "</table>   \n",
        "<table>\n",
        "         <tr>\n",
        "            <th>Adam</th>\n",
        "            <th>90.68%</th>\n",
        "            <th>90.08%</th>\n",
        "         </tr>\n",
        "</table> \n",
        "<table>\n",
        "         <tr>\n",
        "            <th>Adagrad</th>\n",
        "            <th>82.50%</th>\n",
        "            <th>83.02%</th>\n",
        "         </tr>\n",
        "</table>    \n",
        "<table>    \n",
        "         <tr>\n",
        "            <th>SGD</th>\n",
        "            <th>87.84%</th>\n",
        "            <th>88.46%</th>\n",
        "         </tr>\n",
        "</table>\n",
        "<table>\n",
        "         <tr>\n",
        "            <th>RMSprop</th>\n",
        "            <th>92.53%</th>\n",
        "            <th>92.32%</th>\n",
        "         </tr>\n",
        "</table>\n"
      ]
    },
    {
      "cell_type": "markdown",
      "metadata": {
        "id": "ZwXzWE6uW-Tf"
      },
      "source": [
        "<Font color='red'><b>Best Optimiser For Architecture Evaluation 2 is RMSprop</font></b><br>\n",
        "    <font color='blue'>Hyper parameters used for RMSprop </font><br>\n",
        "    1.learning_rate=0.005, <br>\n",
        "    2.rho=0.2,<br>\n",
        "    3.momentum=0.9, <br>\n",
        "    4.epsilon=1e-07,<br>\n",
        "    5.centered=False <br>\n",
        "    6.Batch Size : 540 <br>\n",
        "    7.Dropout: 0.3 <br>\n",
        "    8.Activation Function : Softmax"
      ]
    },
    {
      "cell_type": "markdown",
      "metadata": {
        "id": "wEMgeIqkW-Tf"
      },
      "source": [
        "<font color = 'red'><b>Architecture 2 Diagram</font><b>"
      ]
    },
    {
      "cell_type": "markdown",
      "metadata": {
        "id": "PvS68M8wW-Tf"
      },
      "source": [
        "![arch2.png](data:image/png;base64,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)"
      ]
    },
    {
      "cell_type": "code",
      "execution_count": null,
      "metadata": {
        "id": "EQRIxD0CW-Tf"
      },
      "outputs": [],
      "source": [
        ""
      ]
    }
  ],
  "metadata": {
    "colab": {
      "name": "Assignment_5_arch2_final.ipynb",
      "provenance": []
    },
    "kernelspec": {
      "display_name": "Python 3 (ipykernel)",
      "language": "python",
      "name": "python3"
    },
    "language_info": {
      "codemirror_mode": {
        "name": "ipython",
        "version": 3
      },
      "file_extension": ".py",
      "mimetype": "text/x-python",
      "name": "python",
      "nbconvert_exporter": "python",
      "pygments_lexer": "ipython3",
      "version": "3.9.7"
    }
  },
  "nbformat": 4,
  "nbformat_minor": 0
}